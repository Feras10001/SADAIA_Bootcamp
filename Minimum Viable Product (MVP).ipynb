{
 "cells": [
  {
   "cell_type": "markdown",
   "id": "directed-somalia",
   "metadata": {},
   "source": [
    "# Title: Pedicting The Success or Failure of a Project on Kickstarter \n",
    "\n",
    "### Motivation: the project motivation is to predict wither a project will success or not based on certain features. Also, to know how those features are related to the project success. \n",
    "\n",
    "#### To start exploring this goal I made several plots that explains the relation between the two following features & the whither the project will be successful or not. Those two features are:\n",
    "1. the number of project's backers\n",
    "2. the amount of excess fund (The requested fund - the collected fund)\n",
    "\n",
    "### The two plots are shown below\n",
    "\n",
    "                                                               Number of backers Vs Project State\n",
    "\n",
    "![\"Number of backers Vs Project State\"](1.png)\n",
    "\n",
    "**From the first plot it can be seen that successful projects have very high number of backers usually, while unseccessful ones usually have very few backers**\n",
    "<br>\n",
    "\n",
    "                                                               Amount of excess fund Vs Project State\n",
    "![Amount of excess fund Vs Project State](2.png)\n",
    "\n",
    "**From the second plot it can be seen that successful projects get collect more fund than the requested , while unseccessful ones usually don't meet their targets**\n"
   ]
  }
 ],
 "metadata": {
  "kernelspec": {
   "display_name": "Python 3",
   "language": "python",
   "name": "python3"
  },
  "language_info": {
   "codemirror_mode": {
    "name": "ipython",
    "version": 3
   },
   "file_extension": ".py",
   "mimetype": "text/x-python",
   "name": "python",
   "nbconvert_exporter": "python",
   "pygments_lexer": "ipython3",
   "version": "3.8.8"
  }
 },
 "nbformat": 4,
 "nbformat_minor": 5
}
