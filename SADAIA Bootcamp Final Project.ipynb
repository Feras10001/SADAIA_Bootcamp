{
 "cells": [
  {
   "cell_type": "markdown",
   "id": "modular-pocket",
   "metadata": {},
   "source": [
    "# Title: Analyzing and Predicting the Success of Projects on Kickstarter "
   ]
  },
  {
   "cell_type": "markdown",
   "id": "after-holly",
   "metadata": {},
   "source": [
    "## Section 1: Business Understanding\n",
    "\n",
    "### Motivation: the project motivation is to predict wither a project will success or not based on certain features. Also, to know how those features are related to the project success. "
   ]
  },
  {
   "cell_type": "code",
   "execution_count": 1,
   "id": "christian-catch",
   "metadata": {},
   "outputs": [
    {
     "name": "stdout",
     "output_type": "stream",
     "text": [
      "All main laibraries are imported\n"
     ]
    }
   ],
   "source": [
    "## importing main libararies\n",
    "import pandas as pd\n",
    "import numpy as np\n",
    "import matplotlib.pyplot as plt\n",
    "import seaborn as sns\n",
    "print('All main laibraries are imported')"
   ]
  },
  {
   "cell_type": "markdown",
   "id": "cheap-maine",
   "metadata": {},
   "source": [
    "## Section 2: Data Understanding"
   ]
  },
  {
   "cell_type": "code",
   "execution_count": 2,
   "id": "downtown-aruba",
   "metadata": {},
   "outputs": [
    {
     "data": {
      "text/html": [
       "<div>\n",
       "<style scoped>\n",
       "    .dataframe tbody tr th:only-of-type {\n",
       "        vertical-align: middle;\n",
       "    }\n",
       "\n",
       "    .dataframe tbody tr th {\n",
       "        vertical-align: top;\n",
       "    }\n",
       "\n",
       "    .dataframe thead th {\n",
       "        text-align: right;\n",
       "    }\n",
       "</style>\n",
       "<table border=\"1\" class=\"dataframe\">\n",
       "  <thead>\n",
       "    <tr style=\"text-align: right;\">\n",
       "      <th></th>\n",
       "      <th>ID</th>\n",
       "      <th>name</th>\n",
       "      <th>category</th>\n",
       "      <th>main_category</th>\n",
       "      <th>currency</th>\n",
       "      <th>deadline</th>\n",
       "      <th>goal</th>\n",
       "      <th>launched</th>\n",
       "      <th>pledged</th>\n",
       "      <th>state</th>\n",
       "      <th>backers</th>\n",
       "      <th>country</th>\n",
       "      <th>usd pledged</th>\n",
       "      <th>usd_pledged_real</th>\n",
       "      <th>usd_goal_real</th>\n",
       "    </tr>\n",
       "  </thead>\n",
       "  <tbody>\n",
       "    <tr>\n",
       "      <th>0</th>\n",
       "      <td>1000002330</td>\n",
       "      <td>The Songs of Adelaide &amp; Abullah</td>\n",
       "      <td>Poetry</td>\n",
       "      <td>Publishing</td>\n",
       "      <td>GBP</td>\n",
       "      <td>2015-10-09</td>\n",
       "      <td>1000.0</td>\n",
       "      <td>2015-08-11 12:12:28</td>\n",
       "      <td>0.0</td>\n",
       "      <td>failed</td>\n",
       "      <td>0</td>\n",
       "      <td>GB</td>\n",
       "      <td>0.0</td>\n",
       "      <td>0.0</td>\n",
       "      <td>1533.95</td>\n",
       "    </tr>\n",
       "    <tr>\n",
       "      <th>1</th>\n",
       "      <td>1000003930</td>\n",
       "      <td>Greeting From Earth: ZGAC Arts Capsule For ET</td>\n",
       "      <td>Narrative Film</td>\n",
       "      <td>Film &amp; Video</td>\n",
       "      <td>USD</td>\n",
       "      <td>2017-11-01</td>\n",
       "      <td>30000.0</td>\n",
       "      <td>2017-09-02 04:43:57</td>\n",
       "      <td>2421.0</td>\n",
       "      <td>failed</td>\n",
       "      <td>15</td>\n",
       "      <td>US</td>\n",
       "      <td>100.0</td>\n",
       "      <td>2421.0</td>\n",
       "      <td>30000.00</td>\n",
       "    </tr>\n",
       "    <tr>\n",
       "      <th>2</th>\n",
       "      <td>1000004038</td>\n",
       "      <td>Where is Hank?</td>\n",
       "      <td>Narrative Film</td>\n",
       "      <td>Film &amp; Video</td>\n",
       "      <td>USD</td>\n",
       "      <td>2013-02-26</td>\n",
       "      <td>45000.0</td>\n",
       "      <td>2013-01-12 00:20:50</td>\n",
       "      <td>220.0</td>\n",
       "      <td>failed</td>\n",
       "      <td>3</td>\n",
       "      <td>US</td>\n",
       "      <td>220.0</td>\n",
       "      <td>220.0</td>\n",
       "      <td>45000.00</td>\n",
       "    </tr>\n",
       "    <tr>\n",
       "      <th>3</th>\n",
       "      <td>1000007540</td>\n",
       "      <td>ToshiCapital Rekordz Needs Help to Complete Album</td>\n",
       "      <td>Music</td>\n",
       "      <td>Music</td>\n",
       "      <td>USD</td>\n",
       "      <td>2012-04-16</td>\n",
       "      <td>5000.0</td>\n",
       "      <td>2012-03-17 03:24:11</td>\n",
       "      <td>1.0</td>\n",
       "      <td>failed</td>\n",
       "      <td>1</td>\n",
       "      <td>US</td>\n",
       "      <td>1.0</td>\n",
       "      <td>1.0</td>\n",
       "      <td>5000.00</td>\n",
       "    </tr>\n",
       "    <tr>\n",
       "      <th>4</th>\n",
       "      <td>1000011046</td>\n",
       "      <td>Community Film Project: The Art of Neighborhoo...</td>\n",
       "      <td>Film &amp; Video</td>\n",
       "      <td>Film &amp; Video</td>\n",
       "      <td>USD</td>\n",
       "      <td>2015-08-29</td>\n",
       "      <td>19500.0</td>\n",
       "      <td>2015-07-04 08:35:03</td>\n",
       "      <td>1283.0</td>\n",
       "      <td>canceled</td>\n",
       "      <td>14</td>\n",
       "      <td>US</td>\n",
       "      <td>1283.0</td>\n",
       "      <td>1283.0</td>\n",
       "      <td>19500.00</td>\n",
       "    </tr>\n",
       "  </tbody>\n",
       "</table>\n",
       "</div>"
      ],
      "text/plain": [
       "           ID                                               name  \\\n",
       "0  1000002330                    The Songs of Adelaide & Abullah   \n",
       "1  1000003930      Greeting From Earth: ZGAC Arts Capsule For ET   \n",
       "2  1000004038                                     Where is Hank?   \n",
       "3  1000007540  ToshiCapital Rekordz Needs Help to Complete Album   \n",
       "4  1000011046  Community Film Project: The Art of Neighborhoo...   \n",
       "\n",
       "         category main_category currency    deadline     goal  \\\n",
       "0          Poetry    Publishing      GBP  2015-10-09   1000.0   \n",
       "1  Narrative Film  Film & Video      USD  2017-11-01  30000.0   \n",
       "2  Narrative Film  Film & Video      USD  2013-02-26  45000.0   \n",
       "3           Music         Music      USD  2012-04-16   5000.0   \n",
       "4    Film & Video  Film & Video      USD  2015-08-29  19500.0   \n",
       "\n",
       "              launched  pledged     state  backers country  usd pledged  \\\n",
       "0  2015-08-11 12:12:28      0.0    failed        0      GB          0.0   \n",
       "1  2017-09-02 04:43:57   2421.0    failed       15      US        100.0   \n",
       "2  2013-01-12 00:20:50    220.0    failed        3      US        220.0   \n",
       "3  2012-03-17 03:24:11      1.0    failed        1      US          1.0   \n",
       "4  2015-07-04 08:35:03   1283.0  canceled       14      US       1283.0   \n",
       "\n",
       "   usd_pledged_real  usd_goal_real  \n",
       "0               0.0        1533.95  \n",
       "1            2421.0       30000.00  \n",
       "2             220.0       45000.00  \n",
       "3               1.0        5000.00  \n",
       "4            1283.0       19500.00  "
      ]
     },
     "execution_count": 2,
     "metadata": {},
     "output_type": "execute_result"
    }
   ],
   "source": [
    "df = pd.read_csv('ks-projects-201801.csv')\n",
    "df.head()"
   ]
  },
  {
   "cell_type": "code",
   "execution_count": 3,
   "id": "piano-playing",
   "metadata": {},
   "outputs": [
    {
     "name": "stdout",
     "output_type": "stream",
     "text": [
      "<class 'pandas.core.frame.DataFrame'>\n",
      "RangeIndex: 378661 entries, 0 to 378660\n",
      "Data columns (total 15 columns):\n",
      " #   Column            Non-Null Count   Dtype  \n",
      "---  ------            --------------   -----  \n",
      " 0   ID                378661 non-null  int64  \n",
      " 1   name              378657 non-null  object \n",
      " 2   category          378661 non-null  object \n",
      " 3   main_category     378661 non-null  object \n",
      " 4   currency          378661 non-null  object \n",
      " 5   deadline          378661 non-null  object \n",
      " 6   goal              378661 non-null  float64\n",
      " 7   launched          378661 non-null  object \n",
      " 8   pledged           378661 non-null  float64\n",
      " 9   state             378661 non-null  object \n",
      " 10  backers           378661 non-null  int64  \n",
      " 11  country           378661 non-null  object \n",
      " 12  usd pledged       374864 non-null  float64\n",
      " 13  usd_pledged_real  378661 non-null  float64\n",
      " 14  usd_goal_real     378661 non-null  float64\n",
      "dtypes: float64(5), int64(2), object(8)\n",
      "memory usage: 43.3+ MB\n"
     ]
    }
   ],
   "source": [
    "# Getting general view about the dataframe and check if it has missing data or wrong data type\n",
    "df.info()"
   ]
  },
  {
   "cell_type": "code",
   "execution_count": 4,
   "id": "dimensional-mechanism",
   "metadata": {},
   "outputs": [
    {
     "data": {
      "text/plain": [
       "0"
      ]
     },
     "execution_count": 4,
     "metadata": {},
     "output_type": "execute_result"
    }
   ],
   "source": [
    "# Looking for duplicated rows\n",
    "len(df[df.duplicated()])"
   ]
  },
  {
   "cell_type": "markdown",
   "id": "generous-forge",
   "metadata": {},
   "source": [
    "#### First it can be seen from the information above:\n",
    "* There are 15 columns and 378,661 records\n",
    "* There are 3801 records missing. 3797 records are missing on the [usd pledged] & 4 records are missing from the name columns.\n",
    "* The [lanuched, deadline] columns data type is not accurate, it should be date instead of object.\n",
    "* No duplicated rows were found\n",
    "\n",
    "#### Second, from the infos related to the dataframe, it can be seen that there are three columns similar to each other, which are: pledged, usd pledged, and usd_pledged_real. The first one is the pledged amount of money in the country's currency. The other two are the converted ampount to US dollar. However, usd_pledged_real is the amount converted by Fixer.io API. While \"usd pledged\" is converted by kickstarter. I will use usd_pledged_real to substitute the other two columns for two reasons:\n",
    "1. To have uniformed and consistancy when all the values represented by the same unit (US dollar).\n",
    "2. It has to be mentioned that \"usd_goal_real\" is the real fund needed converted by Fixer.io API. This will also allows to mainatin consistance, since we are using the same source of information and conversion.\n",
    "\n",
    "\n",
    "*Now I move to the next step which is data preparation*"
   ]
  },
  {
   "cell_type": "markdown",
   "id": "mysterious-agriculture",
   "metadata": {},
   "source": [
    "## Section 3: Data Preparing\n",
    "\n",
    "#### In this section I will clean the data by applying the following:\n",
    "- Removing unneccessery columns.\n",
    "    * Removing [usd pledged] since [usd_pledged_real] column has the same data.\n",
    "    * Removing [\"ID\", \"currency\"] since they won't add much to the analysis\n",
    "    *  Removing [goal] since [usd_goal_real] column has the same data.\n",
    "- Removing missing values from [name] column since they are only 4 missing records & they only represent 0.001% of the whole data set\n",
    "- Changing the data type for [Launched, deadline] columns."
   ]
  },
  {
   "cell_type": "code",
   "execution_count": 5,
   "id": "adult-poland",
   "metadata": {},
   "outputs": [],
   "source": [
    "df.drop(columns = ['usd pledged', 'ID', 'currency', 'goal', 'pledged'], axis = 1, inplace = True)"
   ]
  },
  {
   "cell_type": "code",
   "execution_count": 6,
   "id": "remarkable-rapid",
   "metadata": {},
   "outputs": [],
   "source": [
    "# dropping missing values\n",
    "df_drop_missing = df.dropna()"
   ]
  },
  {
   "cell_type": "code",
   "execution_count": 7,
   "id": "correct-ethics",
   "metadata": {},
   "outputs": [
    {
     "name": "stdout",
     "output_type": "stream",
     "text": [
      "<class 'pandas.core.frame.DataFrame'>\n",
      "Int64Index: 378657 entries, 0 to 378660\n",
      "Data columns (total 10 columns):\n",
      " #   Column            Non-Null Count   Dtype  \n",
      "---  ------            --------------   -----  \n",
      " 0   name              378657 non-null  object \n",
      " 1   category          378657 non-null  object \n",
      " 2   main_category     378657 non-null  object \n",
      " 3   deadline          378657 non-null  object \n",
      " 4   launched          378657 non-null  object \n",
      " 5   state             378657 non-null  object \n",
      " 6   backers           378657 non-null  int64  \n",
      " 7   country           378657 non-null  object \n",
      " 8   usd_pledged_real  378657 non-null  float64\n",
      " 9   usd_goal_real     378657 non-null  float64\n",
      "dtypes: float64(2), int64(1), object(7)\n",
      "memory usage: 31.8+ MB\n"
     ]
    }
   ],
   "source": [
    "# Verifying that no missing data exists in the updated data set\n",
    "df_drop_missing.info()"
   ]
  },
  {
   "cell_type": "code",
   "execution_count": 8,
   "id": "collective-central",
   "metadata": {},
   "outputs": [
    {
     "name": "stderr",
     "output_type": "stream",
     "text": [
      "<ipython-input-8-1ce1838019a8>:2: SettingWithCopyWarning: \n",
      "A value is trying to be set on a copy of a slice from a DataFrame.\n",
      "Try using .loc[row_indexer,col_indexer] = value instead\n",
      "\n",
      "See the caveats in the documentation: https://pandas.pydata.org/pandas-docs/stable/user_guide/indexing.html#returning-a-view-versus-a-copy\n",
      "  df_drop_missing['launched']= pd.to_datetime(df_drop_missing['launched'])\n"
     ]
    }
   ],
   "source": [
    "# changing the data type for launched column to date\n",
    "df_drop_missing['launched']= pd.to_datetime(df_drop_missing['launched'])"
   ]
  },
  {
   "cell_type": "code",
   "execution_count": 9,
   "id": "appointed-office",
   "metadata": {},
   "outputs": [
    {
     "name": "stderr",
     "output_type": "stream",
     "text": [
      "<ipython-input-9-e95e1d9e9fba>:2: SettingWithCopyWarning: \n",
      "A value is trying to be set on a copy of a slice from a DataFrame.\n",
      "Try using .loc[row_indexer,col_indexer] = value instead\n",
      "\n",
      "See the caveats in the documentation: https://pandas.pydata.org/pandas-docs/stable/user_guide/indexing.html#returning-a-view-versus-a-copy\n",
      "  df_drop_missing['deadline']= pd.to_datetime(df_drop_missing['deadline'])\n"
     ]
    }
   ],
   "source": [
    "# changing the data type for deadline column to date\n",
    "df_drop_missing['deadline']= pd.to_datetime(df_drop_missing['deadline'])"
   ]
  },
  {
   "cell_type": "code",
   "execution_count": 10,
   "id": "accessible-psychiatry",
   "metadata": {},
   "outputs": [
    {
     "name": "stdout",
     "output_type": "stream",
     "text": [
      "<class 'pandas.core.frame.DataFrame'>\n",
      "Int64Index: 378657 entries, 0 to 378660\n",
      "Data columns (total 10 columns):\n",
      " #   Column            Non-Null Count   Dtype         \n",
      "---  ------            --------------   -----         \n",
      " 0   name              378657 non-null  object        \n",
      " 1   category          378657 non-null  object        \n",
      " 2   main_category     378657 non-null  object        \n",
      " 3   deadline          378657 non-null  datetime64[ns]\n",
      " 4   launched          378657 non-null  datetime64[ns]\n",
      " 5   state             378657 non-null  object        \n",
      " 6   backers           378657 non-null  int64         \n",
      " 7   country           378657 non-null  object        \n",
      " 8   usd_pledged_real  378657 non-null  float64       \n",
      " 9   usd_goal_real     378657 non-null  float64       \n",
      "dtypes: datetime64[ns](2), float64(2), int64(1), object(5)\n",
      "memory usage: 31.8+ MB\n"
     ]
    }
   ],
   "source": [
    "df_drop_missing.info()"
   ]
  },
  {
   "cell_type": "markdown",
   "id": "southern-empty",
   "metadata": {},
   "source": [
    "#### An additional column can be made to get the difference between the deadline date and the lunched date in days"
   ]
  },
  {
   "cell_type": "code",
   "execution_count": 11,
   "id": "reserved-boating",
   "metadata": {},
   "outputs": [
    {
     "name": "stderr",
     "output_type": "stream",
     "text": [
      "<ipython-input-11-f63e8f310f81>:1: SettingWithCopyWarning: \n",
      "A value is trying to be set on a copy of a slice from a DataFrame.\n",
      "Try using .loc[row_indexer,col_indexer] = value instead\n",
      "\n",
      "See the caveats in the documentation: https://pandas.pydata.org/pandas-docs/stable/user_guide/indexing.html#returning-a-view-versus-a-copy\n",
      "  df_drop_missing['time_diff_in_days'] = (df_drop_missing.deadline - df_drop_missing.launched).astype('timedelta64[h]')/24\n"
     ]
    }
   ],
   "source": [
    "df_drop_missing['time_diff_in_days'] = (df_drop_missing.deadline - df_drop_missing.launched).astype('timedelta64[h]')/24\n",
    "pd.options.display.float_format = \"{:,.2f}\".format"
   ]
  },
  {
   "cell_type": "code",
   "execution_count": 12,
   "id": "defensive-booth",
   "metadata": {},
   "outputs": [
    {
     "data": {
      "text/html": [
       "<div>\n",
       "<style scoped>\n",
       "    .dataframe tbody tr th:only-of-type {\n",
       "        vertical-align: middle;\n",
       "    }\n",
       "\n",
       "    .dataframe tbody tr th {\n",
       "        vertical-align: top;\n",
       "    }\n",
       "\n",
       "    .dataframe thead th {\n",
       "        text-align: right;\n",
       "    }\n",
       "</style>\n",
       "<table border=\"1\" class=\"dataframe\">\n",
       "  <thead>\n",
       "    <tr style=\"text-align: right;\">\n",
       "      <th></th>\n",
       "      <th>name</th>\n",
       "      <th>category</th>\n",
       "      <th>main_category</th>\n",
       "      <th>deadline</th>\n",
       "      <th>launched</th>\n",
       "      <th>backers</th>\n",
       "      <th>country</th>\n",
       "      <th>usd_pledged_real</th>\n",
       "      <th>usd_goal_real</th>\n",
       "      <th>time_diff_in_days</th>\n",
       "      <th>State</th>\n",
       "    </tr>\n",
       "  </thead>\n",
       "  <tbody>\n",
       "    <tr>\n",
       "      <th>0</th>\n",
       "      <td>The Songs of Adelaide &amp; Abullah</td>\n",
       "      <td>Poetry</td>\n",
       "      <td>Publishing</td>\n",
       "      <td>2015-10-09</td>\n",
       "      <td>2015-08-11 12:12:28</td>\n",
       "      <td>0</td>\n",
       "      <td>GB</td>\n",
       "      <td>0.00</td>\n",
       "      <td>1,533.95</td>\n",
       "      <td>58.46</td>\n",
       "      <td>failed</td>\n",
       "    </tr>\n",
       "    <tr>\n",
       "      <th>1</th>\n",
       "      <td>Greeting From Earth: ZGAC Arts Capsule For ET</td>\n",
       "      <td>Narrative Film</td>\n",
       "      <td>Film &amp; Video</td>\n",
       "      <td>2017-11-01</td>\n",
       "      <td>2017-09-02 04:43:57</td>\n",
       "      <td>15</td>\n",
       "      <td>US</td>\n",
       "      <td>2,421.00</td>\n",
       "      <td>30,000.00</td>\n",
       "      <td>59.79</td>\n",
       "      <td>failed</td>\n",
       "    </tr>\n",
       "    <tr>\n",
       "      <th>2</th>\n",
       "      <td>Where is Hank?</td>\n",
       "      <td>Narrative Film</td>\n",
       "      <td>Film &amp; Video</td>\n",
       "      <td>2013-02-26</td>\n",
       "      <td>2013-01-12 00:20:50</td>\n",
       "      <td>3</td>\n",
       "      <td>US</td>\n",
       "      <td>220.00</td>\n",
       "      <td>45,000.00</td>\n",
       "      <td>44.96</td>\n",
       "      <td>failed</td>\n",
       "    </tr>\n",
       "    <tr>\n",
       "      <th>3</th>\n",
       "      <td>ToshiCapital Rekordz Needs Help to Complete Album</td>\n",
       "      <td>Music</td>\n",
       "      <td>Music</td>\n",
       "      <td>2012-04-16</td>\n",
       "      <td>2012-03-17 03:24:11</td>\n",
       "      <td>1</td>\n",
       "      <td>US</td>\n",
       "      <td>1.00</td>\n",
       "      <td>5,000.00</td>\n",
       "      <td>29.83</td>\n",
       "      <td>failed</td>\n",
       "    </tr>\n",
       "    <tr>\n",
       "      <th>4</th>\n",
       "      <td>Community Film Project: The Art of Neighborhoo...</td>\n",
       "      <td>Film &amp; Video</td>\n",
       "      <td>Film &amp; Video</td>\n",
       "      <td>2015-08-29</td>\n",
       "      <td>2015-07-04 08:35:03</td>\n",
       "      <td>14</td>\n",
       "      <td>US</td>\n",
       "      <td>1,283.00</td>\n",
       "      <td>19,500.00</td>\n",
       "      <td>55.62</td>\n",
       "      <td>canceled</td>\n",
       "    </tr>\n",
       "  </tbody>\n",
       "</table>\n",
       "</div>"
      ],
      "text/plain": [
       "                                                name        category  \\\n",
       "0                    The Songs of Adelaide & Abullah          Poetry   \n",
       "1      Greeting From Earth: ZGAC Arts Capsule For ET  Narrative Film   \n",
       "2                                     Where is Hank?  Narrative Film   \n",
       "3  ToshiCapital Rekordz Needs Help to Complete Album           Music   \n",
       "4  Community Film Project: The Art of Neighborhoo...    Film & Video   \n",
       "\n",
       "  main_category   deadline            launched  backers country  \\\n",
       "0    Publishing 2015-10-09 2015-08-11 12:12:28        0      GB   \n",
       "1  Film & Video 2017-11-01 2017-09-02 04:43:57       15      US   \n",
       "2  Film & Video 2013-02-26 2013-01-12 00:20:50        3      US   \n",
       "3         Music 2012-04-16 2012-03-17 03:24:11        1      US   \n",
       "4  Film & Video 2015-08-29 2015-07-04 08:35:03       14      US   \n",
       "\n",
       "   usd_pledged_real  usd_goal_real  time_diff_in_days     State  \n",
       "0              0.00       1,533.95              58.46    failed  \n",
       "1          2,421.00      30,000.00              59.79    failed  \n",
       "2            220.00      45,000.00              44.96    failed  \n",
       "3              1.00       5,000.00              29.83    failed  \n",
       "4          1,283.00      19,500.00              55.62  canceled  "
      ]
     },
     "execution_count": 12,
     "metadata": {},
     "output_type": "execute_result"
    }
   ],
   "source": [
    "# making a copy of df_drop_missing\n",
    "cleaned_df = df_drop_missing.copy()\n",
    "# moving target column to be the last\n",
    "cleaned_df['State'] = cleaned_df['state']\n",
    "cleaned_df.drop(columns = ['state'], axis = 1, inplace = True)\n",
    "# checking how the new df looks like\n",
    "cleaned_df.head()"
   ]
  },
  {
   "cell_type": "markdown",
   "id": "level-average",
   "metadata": {},
   "source": [
    "## Section 3: Data Analysis\n",
    "\n",
    "#### Since our data frame is clean and proporely structured, we can move on with the analysis to see the distribution of our information, and how they are related to the target variable \"State\""
   ]
  },
  {
   "cell_type": "code",
   "execution_count": 13,
   "id": "polish-enough",
   "metadata": {},
   "outputs": [
    {
     "data": {
      "text/plain": [
       "{'canceled', 'failed', 'live', 'successful', 'suspended', 'undefined'}"
      ]
     },
     "execution_count": 13,
     "metadata": {},
     "output_type": "execute_result"
    }
   ],
   "source": [
    "# we can explore the different states of a project\n",
    "set(cleaned_df.State)"
   ]
  },
  {
   "cell_type": "markdown",
   "id": "fleet-warrant",
   "metadata": {},
   "source": [
    "**As it can be seen there are 6 states for any project. Two states can be defined as project didn't success, which are the failed and canceled ones. For the lived, suspended, and undifiend ones, they have to be investigated furtehr to deterimne if they will be changed as failure, deleted, or utilized deffernelty in our analysis**<br>\n",
    "<br>\n",
    "**The first step to check the recent date under the deadline column. If the deadline is beyond 2018 it means the project state can be keept as it is. If the recent deadline is within 2018 then the project state shall be changed**<br>\n",
    "<br>\n",
    "**The second step to look at the backers column if it is zero or not. If it is not zero then the project is probably successful one. Else, the project is a failure, because you can't raise a fund with out having a backers or supportes. The last step, if the backers number is not zero, is to see if the goal fund is met or not. If yes, then the chances of the project being successful are really high and can change the project state to successful. (Unless if it is stated as canceled or failed).**\n"
   ]
  },
  {
   "cell_type": "code",
   "execution_count": 14,
   "id": "political-space",
   "metadata": {},
   "outputs": [
    {
     "data": {
      "text/plain": [
       "Timestamp('2018-03-03 00:00:00')"
      ]
     },
     "execution_count": 14,
     "metadata": {},
     "output_type": "execute_result"
    }
   ],
   "source": [
    "# first we check the recent date in the deadlline column\n",
    "cleaned_df.deadline.max()"
   ]
  },
  {
   "cell_type": "markdown",
   "id": "described-bidder",
   "metadata": {},
   "source": [
    "**as seen above the recent date in the deadline column is March 2018. This means all three states mentioend earlier: live, suspended, or undifined shall be changed to either successful or failure. This will be determined after applying the remaining verification process**"
   ]
  },
  {
   "cell_type": "markdown",
   "id": "tracked-effort",
   "metadata": {},
   "source": [
    "### First: Checking the project state where the number of supporters is zero"
   ]
  },
  {
   "cell_type": "code",
   "execution_count": 15,
   "id": "hairy-phenomenon",
   "metadata": {},
   "outputs": [
    {
     "data": {
      "text/plain": [
       "{'canceled', 'failed', 'live', 'successful', 'suspended', 'undefined'}"
      ]
     },
     "execution_count": 15,
     "metadata": {},
     "output_type": "execute_result"
    }
   ],
   "source": [
    "set(cleaned_df[cleaned_df['backers'] == 0].State)"
   ]
  },
  {
   "cell_type": "code",
   "execution_count": 16,
   "id": "under-tanzania",
   "metadata": {},
   "outputs": [
    {
     "data": {
      "text/plain": [
       "55608"
      ]
     },
     "execution_count": 16,
     "metadata": {},
     "output_type": "execute_result"
    }
   ],
   "source": [
    "len(cleaned_df[cleaned_df['backers'] == 0])"
   ]
  },
  {
   "cell_type": "code",
   "execution_count": 17,
   "id": "improved-export",
   "metadata": {},
   "outputs": [
    {
     "data": {
      "text/plain": [
       "State\n",
       "canceled      12035\n",
       "failed        38742\n",
       "live            549\n",
       "successful      105\n",
       "suspended       615\n",
       "undefined      3562\n",
       "Name: State, dtype: int64"
      ]
     },
     "execution_count": 17,
     "metadata": {},
     "output_type": "execute_result"
    }
   ],
   "source": [
    "zero_supporters = cleaned_df[cleaned_df['backers'] == 0]\n",
    "zero_supporters.groupby('State').State.agg('count')"
   ]
  },
  {
   "cell_type": "code",
   "execution_count": 18,
   "id": "communist-minute",
   "metadata": {},
   "outputs": [
    {
     "data": {
      "text/html": [
       "<div>\n",
       "<style scoped>\n",
       "    .dataframe tbody tr th:only-of-type {\n",
       "        vertical-align: middle;\n",
       "    }\n",
       "\n",
       "    .dataframe tbody tr th {\n",
       "        vertical-align: top;\n",
       "    }\n",
       "\n",
       "    .dataframe thead th {\n",
       "        text-align: right;\n",
       "    }\n",
       "</style>\n",
       "<table border=\"1\" class=\"dataframe\">\n",
       "  <thead>\n",
       "    <tr style=\"text-align: right;\">\n",
       "      <th></th>\n",
       "      <th>name</th>\n",
       "      <th>category</th>\n",
       "      <th>main_category</th>\n",
       "      <th>deadline</th>\n",
       "      <th>launched</th>\n",
       "      <th>backers</th>\n",
       "      <th>country</th>\n",
       "      <th>usd_pledged_real</th>\n",
       "      <th>usd_goal_real</th>\n",
       "      <th>time_diff_in_days</th>\n",
       "      <th>State</th>\n",
       "    </tr>\n",
       "  </thead>\n",
       "  <tbody>\n",
       "    <tr>\n",
       "      <th>169</th>\n",
       "      <td>STREETFIGHTERZ WHEELIE MURICA</td>\n",
       "      <td>Film &amp; Video</td>\n",
       "      <td>Film &amp; Video</td>\n",
       "      <td>2014-09-20</td>\n",
       "      <td>2014-08-06 21:28:36</td>\n",
       "      <td>0</td>\n",
       "      <td>N,0\"</td>\n",
       "      <td>555.00</td>\n",
       "      <td>6,500.00</td>\n",
       "      <td>44.08</td>\n",
       "      <td>undefined</td>\n",
       "    </tr>\n",
       "    <tr>\n",
       "      <th>328</th>\n",
       "      <td>Duncan Woods - Chameleon EP</td>\n",
       "      <td>Music</td>\n",
       "      <td>Music</td>\n",
       "      <td>2015-08-25</td>\n",
       "      <td>2015-08-04 12:05:17</td>\n",
       "      <td>0</td>\n",
       "      <td>N,0\"</td>\n",
       "      <td>3,402.08</td>\n",
       "      <td>3,211.53</td>\n",
       "      <td>20.46</td>\n",
       "      <td>undefined</td>\n",
       "    </tr>\n",
       "    <tr>\n",
       "      <th>632</th>\n",
       "      <td>The Making of Ashley Kelley's Debut Album</td>\n",
       "      <td>Music</td>\n",
       "      <td>Music</td>\n",
       "      <td>2015-04-09</td>\n",
       "      <td>2015-03-10 20:06:13</td>\n",
       "      <td>0</td>\n",
       "      <td>N,0\"</td>\n",
       "      <td>3,576.00</td>\n",
       "      <td>3,500.00</td>\n",
       "      <td>29.12</td>\n",
       "      <td>undefined</td>\n",
       "    </tr>\n",
       "    <tr>\n",
       "      <th>647</th>\n",
       "      <td>Butter Side Down Debut Album</td>\n",
       "      <td>Music</td>\n",
       "      <td>Music</td>\n",
       "      <td>2015-11-26</td>\n",
       "      <td>2015-11-02 22:09:19</td>\n",
       "      <td>0</td>\n",
       "      <td>N,0\"</td>\n",
       "      <td>7,007.80</td>\n",
       "      <td>6,000.00</td>\n",
       "      <td>23.04</td>\n",
       "      <td>undefined</td>\n",
       "    </tr>\n",
       "    <tr>\n",
       "      <th>749</th>\n",
       "      <td>Chase Goehring debut EP</td>\n",
       "      <td>Music</td>\n",
       "      <td>Music</td>\n",
       "      <td>2016-03-21</td>\n",
       "      <td>2016-02-23 03:09:49</td>\n",
       "      <td>0</td>\n",
       "      <td>N,0\"</td>\n",
       "      <td>3,660.38</td>\n",
       "      <td>3,000.00</td>\n",
       "      <td>26.83</td>\n",
       "      <td>undefined</td>\n",
       "    </tr>\n",
       "    <tr>\n",
       "      <th>...</th>\n",
       "      <td>...</td>\n",
       "      <td>...</td>\n",
       "      <td>...</td>\n",
       "      <td>...</td>\n",
       "      <td>...</td>\n",
       "      <td>...</td>\n",
       "      <td>...</td>\n",
       "      <td>...</td>\n",
       "      <td>...</td>\n",
       "      <td>...</td>\n",
       "      <td>...</td>\n",
       "    </tr>\n",
       "    <tr>\n",
       "      <th>378219</th>\n",
       "      <td>Otter's First Full Length Album</td>\n",
       "      <td>Music</td>\n",
       "      <td>Music</td>\n",
       "      <td>2015-12-31</td>\n",
       "      <td>2015-12-01 00:25:06</td>\n",
       "      <td>0</td>\n",
       "      <td>N,0\"</td>\n",
       "      <td>6,065.26</td>\n",
       "      <td>5,000.00</td>\n",
       "      <td>29.96</td>\n",
       "      <td>undefined</td>\n",
       "    </tr>\n",
       "    <tr>\n",
       "      <th>378233</th>\n",
       "      <td>EQUUS International Film Festival®, all-equine...</td>\n",
       "      <td>Film &amp; Video</td>\n",
       "      <td>Film &amp; Video</td>\n",
       "      <td>2015-02-03</td>\n",
       "      <td>2014-12-05 04:19:14</td>\n",
       "      <td>0</td>\n",
       "      <td>N,0\"</td>\n",
       "      <td>10.00</td>\n",
       "      <td>7,500.00</td>\n",
       "      <td>59.79</td>\n",
       "      <td>undefined</td>\n",
       "    </tr>\n",
       "    <tr>\n",
       "      <th>378303</th>\n",
       "      <td>Emily 2050 - Short Film</td>\n",
       "      <td>Film &amp; Video</td>\n",
       "      <td>Film &amp; Video</td>\n",
       "      <td>2014-05-23</td>\n",
       "      <td>2014-04-08 00:30:09</td>\n",
       "      <td>0</td>\n",
       "      <td>N,0\"</td>\n",
       "      <td>2,845.61</td>\n",
       "      <td>2,752.04</td>\n",
       "      <td>44.96</td>\n",
       "      <td>undefined</td>\n",
       "    </tr>\n",
       "    <tr>\n",
       "      <th>378434</th>\n",
       "      <td>Matthew Stephens Music</td>\n",
       "      <td>Music</td>\n",
       "      <td>Music</td>\n",
       "      <td>2016-02-05</td>\n",
       "      <td>2016-01-06 21:59:23</td>\n",
       "      <td>0</td>\n",
       "      <td>N,0\"</td>\n",
       "      <td>235.00</td>\n",
       "      <td>5,000.00</td>\n",
       "      <td>29.08</td>\n",
       "      <td>undefined</td>\n",
       "    </tr>\n",
       "    <tr>\n",
       "      <th>378585</th>\n",
       "      <td>Lady Vendredi: Afrofuturist concept 12 inch EP</td>\n",
       "      <td>Music</td>\n",
       "      <td>Music</td>\n",
       "      <td>2015-10-19</td>\n",
       "      <td>2015-09-21 22:33:18</td>\n",
       "      <td>0</td>\n",
       "      <td>N,0\"</td>\n",
       "      <td>3,273.36</td>\n",
       "      <td>3,080.81</td>\n",
       "      <td>27.04</td>\n",
       "      <td>undefined</td>\n",
       "    </tr>\n",
       "  </tbody>\n",
       "</table>\n",
       "<p>3082 rows × 11 columns</p>\n",
       "</div>"
      ],
      "text/plain": [
       "                                                     name      category  \\\n",
       "169                         STREETFIGHTERZ WHEELIE MURICA  Film & Video   \n",
       "328                           Duncan Woods - Chameleon EP         Music   \n",
       "632             The Making of Ashley Kelley's Debut Album         Music   \n",
       "647                          Butter Side Down Debut Album         Music   \n",
       "749                               Chase Goehring debut EP         Music   \n",
       "...                                                   ...           ...   \n",
       "378219                    Otter's First Full Length Album         Music   \n",
       "378233  EQUUS International Film Festival®, all-equine...  Film & Video   \n",
       "378303                            Emily 2050 - Short Film  Film & Video   \n",
       "378434                             Matthew Stephens Music         Music   \n",
       "378585     Lady Vendredi: Afrofuturist concept 12 inch EP         Music   \n",
       "\n",
       "       main_category   deadline            launched  backers country  \\\n",
       "169     Film & Video 2014-09-20 2014-08-06 21:28:36        0    N,0\"   \n",
       "328            Music 2015-08-25 2015-08-04 12:05:17        0    N,0\"   \n",
       "632            Music 2015-04-09 2015-03-10 20:06:13        0    N,0\"   \n",
       "647            Music 2015-11-26 2015-11-02 22:09:19        0    N,0\"   \n",
       "749            Music 2016-03-21 2016-02-23 03:09:49        0    N,0\"   \n",
       "...              ...        ...                 ...      ...     ...   \n",
       "378219         Music 2015-12-31 2015-12-01 00:25:06        0    N,0\"   \n",
       "378233  Film & Video 2015-02-03 2014-12-05 04:19:14        0    N,0\"   \n",
       "378303  Film & Video 2014-05-23 2014-04-08 00:30:09        0    N,0\"   \n",
       "378434         Music 2016-02-05 2016-01-06 21:59:23        0    N,0\"   \n",
       "378585         Music 2015-10-19 2015-09-21 22:33:18        0    N,0\"   \n",
       "\n",
       "        usd_pledged_real  usd_goal_real  time_diff_in_days      State  \n",
       "169               555.00       6,500.00              44.08  undefined  \n",
       "328             3,402.08       3,211.53              20.46  undefined  \n",
       "632             3,576.00       3,500.00              29.12  undefined  \n",
       "647             7,007.80       6,000.00              23.04  undefined  \n",
       "749             3,660.38       3,000.00              26.83  undefined  \n",
       "...                  ...            ...                ...        ...  \n",
       "378219          6,065.26       5,000.00              29.96  undefined  \n",
       "378233             10.00       7,500.00              59.79  undefined  \n",
       "378303          2,845.61       2,752.04              44.96  undefined  \n",
       "378434            235.00       5,000.00              29.08  undefined  \n",
       "378585          3,273.36       3,080.81              27.04  undefined  \n",
       "\n",
       "[3082 rows x 11 columns]"
      ]
     },
     "execution_count": 18,
     "metadata": {},
     "output_type": "execute_result"
    }
   ],
   "source": [
    "remove1 = zero_supporters[zero_supporters.usd_pledged_real != 0] #Those data can't be real, as you can't collect any fund with no supporters\n",
    "remove1"
   ]
  },
  {
   "cell_type": "markdown",
   "id": "frank-helen",
   "metadata": {},
   "source": [
    "**It can be seen above that there 55608 rows have zero supporters, 3082 out them can't be real and must be excluded because there is no way to determine if the number of backers is actually zero, and since no fund can be collected when there are no backers. The remaining projects, their states should be changed to failure because as zero supporters means zero fund**"
   ]
  },
  {
   "cell_type": "markdown",
   "id": "intended-angola",
   "metadata": {},
   "source": [
    "### Second: Checking the project state where the number of supporters is not zero & the fund requested is fully met"
   ]
  },
  {
   "cell_type": "code",
   "execution_count": 19,
   "id": "clinical-sharing",
   "metadata": {},
   "outputs": [],
   "source": [
    "Non_zero_supporters = cleaned_df[cleaned_df['backers'] != 0]"
   ]
  },
  {
   "cell_type": "code",
   "execution_count": 20,
   "id": "valid-bleeding",
   "metadata": {},
   "outputs": [],
   "source": [
    "goal_met = Non_zero_supporters[Non_zero_supporters.usd_pledged_real - Non_zero_supporters.usd_goal_real == 0]"
   ]
  },
  {
   "cell_type": "code",
   "execution_count": 21,
   "id": "presidential-station",
   "metadata": {},
   "outputs": [
    {
     "data": {
      "text/plain": [
       "4119"
      ]
     },
     "execution_count": 21,
     "metadata": {},
     "output_type": "execute_result"
    }
   ],
   "source": [
    "len(goal_met)"
   ]
  },
  {
   "cell_type": "code",
   "execution_count": 22,
   "id": "julian-present",
   "metadata": {},
   "outputs": [
    {
     "data": {
      "text/plain": [
       "State\n",
       "canceled        48\n",
       "failed           2\n",
       "live            12\n",
       "successful    4052\n",
       "suspended        5\n",
       "Name: State, dtype: int64"
      ]
     },
     "execution_count": 22,
     "metadata": {},
     "output_type": "execute_result"
    }
   ],
   "source": [
    "goal_met.groupby('State').State.agg('count')"
   ]
  },
  {
   "cell_type": "code",
   "execution_count": 23,
   "id": "retained-wagner",
   "metadata": {},
   "outputs": [
    {
     "data": {
      "text/html": [
       "<div>\n",
       "<style scoped>\n",
       "    .dataframe tbody tr th:only-of-type {\n",
       "        vertical-align: middle;\n",
       "    }\n",
       "\n",
       "    .dataframe tbody tr th {\n",
       "        vertical-align: top;\n",
       "    }\n",
       "\n",
       "    .dataframe thead th {\n",
       "        text-align: right;\n",
       "    }\n",
       "</style>\n",
       "<table border=\"1\" class=\"dataframe\">\n",
       "  <thead>\n",
       "    <tr style=\"text-align: right;\">\n",
       "      <th></th>\n",
       "      <th>name</th>\n",
       "      <th>category</th>\n",
       "      <th>main_category</th>\n",
       "      <th>deadline</th>\n",
       "      <th>launched</th>\n",
       "      <th>backers</th>\n",
       "      <th>country</th>\n",
       "      <th>usd_pledged_real</th>\n",
       "      <th>usd_goal_real</th>\n",
       "      <th>time_diff_in_days</th>\n",
       "      <th>State</th>\n",
       "    </tr>\n",
       "  </thead>\n",
       "  <tbody>\n",
       "    <tr>\n",
       "      <th>990</th>\n",
       "      <td>Tiddly Trailer Bar Co.</td>\n",
       "      <td>Drinks</td>\n",
       "      <td>Food</td>\n",
       "      <td>2018-01-02</td>\n",
       "      <td>2017-11-03 21:36:22</td>\n",
       "      <td>36</td>\n",
       "      <td>US</td>\n",
       "      <td>9,500.00</td>\n",
       "      <td>9,500.00</td>\n",
       "      <td>59.08</td>\n",
       "      <td>live</td>\n",
       "    </tr>\n",
       "    <tr>\n",
       "      <th>4985</th>\n",
       "      <td>Mazie Meadows Morning Show Podcast, Season 2</td>\n",
       "      <td>Performance Art</td>\n",
       "      <td>Art</td>\n",
       "      <td>2018-01-22</td>\n",
       "      <td>2017-12-23 00:14:45</td>\n",
       "      <td>1</td>\n",
       "      <td>US</td>\n",
       "      <td>500.00</td>\n",
       "      <td>500.00</td>\n",
       "      <td>29.96</td>\n",
       "      <td>live</td>\n",
       "    </tr>\n",
       "    <tr>\n",
       "      <th>7102</th>\n",
       "      <td>Namespace (Canceled)</td>\n",
       "      <td>Mobile Games</td>\n",
       "      <td>Games</td>\n",
       "      <td>2015-03-18</td>\n",
       "      <td>2015-02-08 13:58:17</td>\n",
       "      <td>17</td>\n",
       "      <td>GB</td>\n",
       "      <td>148.53</td>\n",
       "      <td>148.53</td>\n",
       "      <td>37.42</td>\n",
       "      <td>canceled</td>\n",
       "    </tr>\n",
       "    <tr>\n",
       "      <th>15289</th>\n",
       "      <td>Filmdreh in Wien</td>\n",
       "      <td>Drama</td>\n",
       "      <td>Film &amp; Video</td>\n",
       "      <td>2018-02-11</td>\n",
       "      <td>2017-12-16 09:01:57</td>\n",
       "      <td>1</td>\n",
       "      <td>CH</td>\n",
       "      <td>102.97</td>\n",
       "      <td>102.97</td>\n",
       "      <td>56.58</td>\n",
       "      <td>live</td>\n",
       "    </tr>\n",
       "    <tr>\n",
       "      <th>20097</th>\n",
       "      <td>Help get my boyfriend across the state to me! ...</td>\n",
       "      <td>Rock</td>\n",
       "      <td>Music</td>\n",
       "      <td>2015-05-20</td>\n",
       "      <td>2015-04-20 23:28:17</td>\n",
       "      <td>1</td>\n",
       "      <td>US</td>\n",
       "      <td>50.00</td>\n",
       "      <td>50.00</td>\n",
       "      <td>29.00</td>\n",
       "      <td>suspended</td>\n",
       "    </tr>\n",
       "    <tr>\n",
       "      <th>...</th>\n",
       "      <td>...</td>\n",
       "      <td>...</td>\n",
       "      <td>...</td>\n",
       "      <td>...</td>\n",
       "      <td>...</td>\n",
       "      <td>...</td>\n",
       "      <td>...</td>\n",
       "      <td>...</td>\n",
       "      <td>...</td>\n",
       "      <td>...</td>\n",
       "      <td>...</td>\n",
       "    </tr>\n",
       "    <tr>\n",
       "      <th>337790</th>\n",
       "      <td>From Neurons to Nirvana: The Great Medicines</td>\n",
       "      <td>Documentary</td>\n",
       "      <td>Film &amp; Video</td>\n",
       "      <td>2011-09-23</td>\n",
       "      <td>2011-07-25 20:35:41</td>\n",
       "      <td>113</td>\n",
       "      <td>US</td>\n",
       "      <td>40,000.00</td>\n",
       "      <td>40,000.00</td>\n",
       "      <td>59.12</td>\n",
       "      <td>failed</td>\n",
       "    </tr>\n",
       "    <tr>\n",
       "      <th>341424</th>\n",
       "      <td>Battlestuen (Canceled)</td>\n",
       "      <td>Film &amp; Video</td>\n",
       "      <td>Film &amp; Video</td>\n",
       "      <td>2015-01-17</td>\n",
       "      <td>2014-12-18 19:22:31</td>\n",
       "      <td>11</td>\n",
       "      <td>DK</td>\n",
       "      <td>376.13</td>\n",
       "      <td>376.13</td>\n",
       "      <td>29.17</td>\n",
       "      <td>canceled</td>\n",
       "    </tr>\n",
       "    <tr>\n",
       "      <th>351431</th>\n",
       "      <td>Help Me I'm Poor But Really Want This Cute Ass...</td>\n",
       "      <td>Couture</td>\n",
       "      <td>Fashion</td>\n",
       "      <td>2014-12-26</td>\n",
       "      <td>2014-12-01 23:58:37</td>\n",
       "      <td>11</td>\n",
       "      <td>US</td>\n",
       "      <td>109.00</td>\n",
       "      <td>109.00</td>\n",
       "      <td>24.00</td>\n",
       "      <td>suspended</td>\n",
       "    </tr>\n",
       "    <tr>\n",
       "      <th>352078</th>\n",
       "      <td>Slinky Race (Canceled)</td>\n",
       "      <td>Live Games</td>\n",
       "      <td>Games</td>\n",
       "      <td>2014-08-17</td>\n",
       "      <td>2014-07-18 02:39:14</td>\n",
       "      <td>1</td>\n",
       "      <td>US</td>\n",
       "      <td>100.00</td>\n",
       "      <td>100.00</td>\n",
       "      <td>29.88</td>\n",
       "      <td>canceled</td>\n",
       "    </tr>\n",
       "    <tr>\n",
       "      <th>356946</th>\n",
       "      <td>breakfast burrito (Canceled)</td>\n",
       "      <td>Food</td>\n",
       "      <td>Food</td>\n",
       "      <td>2015-11-29</td>\n",
       "      <td>2015-10-30 19:42:16</td>\n",
       "      <td>3</td>\n",
       "      <td>US</td>\n",
       "      <td>8.00</td>\n",
       "      <td>8.00</td>\n",
       "      <td>29.17</td>\n",
       "      <td>canceled</td>\n",
       "    </tr>\n",
       "  </tbody>\n",
       "</table>\n",
       "<p>67 rows × 11 columns</p>\n",
       "</div>"
      ],
      "text/plain": [
       "                                                     name         category  \\\n",
       "990                                Tiddly Trailer Bar Co.           Drinks   \n",
       "4985         Mazie Meadows Morning Show Podcast, Season 2  Performance Art   \n",
       "7102                                 Namespace (Canceled)     Mobile Games   \n",
       "15289                                    Filmdreh in Wien            Drama   \n",
       "20097   Help get my boyfriend across the state to me! ...             Rock   \n",
       "...                                                   ...              ...   \n",
       "337790       From Neurons to Nirvana: The Great Medicines      Documentary   \n",
       "341424                             Battlestuen (Canceled)     Film & Video   \n",
       "351431  Help Me I'm Poor But Really Want This Cute Ass...          Couture   \n",
       "352078                             Slinky Race (Canceled)       Live Games   \n",
       "356946                       breakfast burrito (Canceled)             Food   \n",
       "\n",
       "       main_category   deadline            launched  backers country  \\\n",
       "990             Food 2018-01-02 2017-11-03 21:36:22       36      US   \n",
       "4985             Art 2018-01-22 2017-12-23 00:14:45        1      US   \n",
       "7102           Games 2015-03-18 2015-02-08 13:58:17       17      GB   \n",
       "15289   Film & Video 2018-02-11 2017-12-16 09:01:57        1      CH   \n",
       "20097          Music 2015-05-20 2015-04-20 23:28:17        1      US   \n",
       "...              ...        ...                 ...      ...     ...   \n",
       "337790  Film & Video 2011-09-23 2011-07-25 20:35:41      113      US   \n",
       "341424  Film & Video 2015-01-17 2014-12-18 19:22:31       11      DK   \n",
       "351431       Fashion 2014-12-26 2014-12-01 23:58:37       11      US   \n",
       "352078         Games 2014-08-17 2014-07-18 02:39:14        1      US   \n",
       "356946          Food 2015-11-29 2015-10-30 19:42:16        3      US   \n",
       "\n",
       "        usd_pledged_real  usd_goal_real  time_diff_in_days      State  \n",
       "990             9,500.00       9,500.00              59.08       live  \n",
       "4985              500.00         500.00              29.96       live  \n",
       "7102              148.53         148.53              37.42   canceled  \n",
       "15289             102.97         102.97              56.58       live  \n",
       "20097              50.00          50.00              29.00  suspended  \n",
       "...                  ...            ...                ...        ...  \n",
       "337790         40,000.00      40,000.00              59.12     failed  \n",
       "341424            376.13         376.13              29.17   canceled  \n",
       "351431            109.00         109.00              24.00  suspended  \n",
       "352078            100.00         100.00              29.88   canceled  \n",
       "356946              8.00           8.00              29.17   canceled  \n",
       "\n",
       "[67 rows x 11 columns]"
      ]
     },
     "execution_count": 23,
     "metadata": {},
     "output_type": "execute_result"
    }
   ],
   "source": [
    "goal_met[goal_met.State != 'successful']"
   ]
  },
  {
   "cell_type": "code",
   "execution_count": 24,
   "id": "distinguished-decade",
   "metadata": {},
   "outputs": [
    {
     "data": {
      "text/html": [
       "<div>\n",
       "<style scoped>\n",
       "    .dataframe tbody tr th:only-of-type {\n",
       "        vertical-align: middle;\n",
       "    }\n",
       "\n",
       "    .dataframe tbody tr th {\n",
       "        vertical-align: top;\n",
       "    }\n",
       "\n",
       "    .dataframe thead th {\n",
       "        text-align: right;\n",
       "    }\n",
       "</style>\n",
       "<table border=\"1\" class=\"dataframe\">\n",
       "  <thead>\n",
       "    <tr style=\"text-align: right;\">\n",
       "      <th></th>\n",
       "      <th>name</th>\n",
       "      <th>category</th>\n",
       "      <th>main_category</th>\n",
       "      <th>deadline</th>\n",
       "      <th>launched</th>\n",
       "      <th>backers</th>\n",
       "      <th>country</th>\n",
       "      <th>usd_pledged_real</th>\n",
       "      <th>usd_goal_real</th>\n",
       "      <th>time_diff_in_days</th>\n",
       "      <th>State</th>\n",
       "    </tr>\n",
       "  </thead>\n",
       "  <tbody>\n",
       "    <tr>\n",
       "      <th>990</th>\n",
       "      <td>Tiddly Trailer Bar Co.</td>\n",
       "      <td>Drinks</td>\n",
       "      <td>Food</td>\n",
       "      <td>2018-01-02</td>\n",
       "      <td>2017-11-03 21:36:22</td>\n",
       "      <td>36</td>\n",
       "      <td>US</td>\n",
       "      <td>9,500.00</td>\n",
       "      <td>9,500.00</td>\n",
       "      <td>59.08</td>\n",
       "      <td>live</td>\n",
       "    </tr>\n",
       "    <tr>\n",
       "      <th>4985</th>\n",
       "      <td>Mazie Meadows Morning Show Podcast, Season 2</td>\n",
       "      <td>Performance Art</td>\n",
       "      <td>Art</td>\n",
       "      <td>2018-01-22</td>\n",
       "      <td>2017-12-23 00:14:45</td>\n",
       "      <td>1</td>\n",
       "      <td>US</td>\n",
       "      <td>500.00</td>\n",
       "      <td>500.00</td>\n",
       "      <td>29.96</td>\n",
       "      <td>live</td>\n",
       "    </tr>\n",
       "    <tr>\n",
       "      <th>15289</th>\n",
       "      <td>Filmdreh in Wien</td>\n",
       "      <td>Drama</td>\n",
       "      <td>Film &amp; Video</td>\n",
       "      <td>2018-02-11</td>\n",
       "      <td>2017-12-16 09:01:57</td>\n",
       "      <td>1</td>\n",
       "      <td>CH</td>\n",
       "      <td>102.97</td>\n",
       "      <td>102.97</td>\n",
       "      <td>56.58</td>\n",
       "      <td>live</td>\n",
       "    </tr>\n",
       "    <tr>\n",
       "      <th>20097</th>\n",
       "      <td>Help get my boyfriend across the state to me! ...</td>\n",
       "      <td>Rock</td>\n",
       "      <td>Music</td>\n",
       "      <td>2015-05-20</td>\n",
       "      <td>2015-04-20 23:28:17</td>\n",
       "      <td>1</td>\n",
       "      <td>US</td>\n",
       "      <td>50.00</td>\n",
       "      <td>50.00</td>\n",
       "      <td>29.00</td>\n",
       "      <td>suspended</td>\n",
       "    </tr>\n",
       "    <tr>\n",
       "      <th>21157</th>\n",
       "      <td>Monster Wings Funding</td>\n",
       "      <td>Film &amp; Video</td>\n",
       "      <td>Film &amp; Video</td>\n",
       "      <td>2018-01-12</td>\n",
       "      <td>2017-11-13 01:05:12</td>\n",
       "      <td>8</td>\n",
       "      <td>US</td>\n",
       "      <td>800.00</td>\n",
       "      <td>800.00</td>\n",
       "      <td>59.92</td>\n",
       "      <td>live</td>\n",
       "    </tr>\n",
       "    <tr>\n",
       "      <th>37231</th>\n",
       "      <td>Data Boss: easily find all your data anytime, ...</td>\n",
       "      <td>Software</td>\n",
       "      <td>Technology</td>\n",
       "      <td>2018-01-28</td>\n",
       "      <td>2017-12-24 17:03:30</td>\n",
       "      <td>25</td>\n",
       "      <td>US</td>\n",
       "      <td>500.00</td>\n",
       "      <td>500.00</td>\n",
       "      <td>34.25</td>\n",
       "      <td>live</td>\n",
       "    </tr>\n",
       "    <tr>\n",
       "      <th>45873</th>\n",
       "      <td>Coffee at Midnight | A Thesis Film by Avery Du...</td>\n",
       "      <td>Narrative Film</td>\n",
       "      <td>Film &amp; Video</td>\n",
       "      <td>2018-01-03</td>\n",
       "      <td>2017-11-29 17:36:13</td>\n",
       "      <td>27</td>\n",
       "      <td>US</td>\n",
       "      <td>5,000.00</td>\n",
       "      <td>5,000.00</td>\n",
       "      <td>34.25</td>\n",
       "      <td>live</td>\n",
       "    </tr>\n",
       "    <tr>\n",
       "      <th>52214</th>\n",
       "      <td>Cinego - Meet Your Personal Immersive 4K Cinema</td>\n",
       "      <td>Technology</td>\n",
       "      <td>Technology</td>\n",
       "      <td>2018-01-09</td>\n",
       "      <td>2017-12-30 19:02:02</td>\n",
       "      <td>3</td>\n",
       "      <td>US</td>\n",
       "      <td>1,000.00</td>\n",
       "      <td>1,000.00</td>\n",
       "      <td>9.17</td>\n",
       "      <td>live</td>\n",
       "    </tr>\n",
       "    <tr>\n",
       "      <th>71729</th>\n",
       "      <td>I'll take some of that hard earned cash (Suspe...</td>\n",
       "      <td>Comedy</td>\n",
       "      <td>Film &amp; Video</td>\n",
       "      <td>2015-06-21</td>\n",
       "      <td>2015-05-22 00:53:34</td>\n",
       "      <td>1</td>\n",
       "      <td>GB</td>\n",
       "      <td>23.59</td>\n",
       "      <td>23.59</td>\n",
       "      <td>29.96</td>\n",
       "      <td>suspended</td>\n",
       "    </tr>\n",
       "    <tr>\n",
       "      <th>84507</th>\n",
       "      <td>LIKE THERE'S NO TOMORROW</td>\n",
       "      <td>Immersive</td>\n",
       "      <td>Theater</td>\n",
       "      <td>2018-01-02</td>\n",
       "      <td>2017-12-12 14:10:56</td>\n",
       "      <td>17</td>\n",
       "      <td>DE</td>\n",
       "      <td>481.80</td>\n",
       "      <td>481.80</td>\n",
       "      <td>20.38</td>\n",
       "      <td>live</td>\n",
       "    </tr>\n",
       "    <tr>\n",
       "      <th>164367</th>\n",
       "      <td>Friend with Cerebral Palsy needs a suit for a ...</td>\n",
       "      <td>Apparel</td>\n",
       "      <td>Fashion</td>\n",
       "      <td>2014-10-01</td>\n",
       "      <td>2014-09-17 21:57:42</td>\n",
       "      <td>6</td>\n",
       "      <td>US</td>\n",
       "      <td>400.00</td>\n",
       "      <td>400.00</td>\n",
       "      <td>13.08</td>\n",
       "      <td>suspended</td>\n",
       "    </tr>\n",
       "    <tr>\n",
       "      <th>166736</th>\n",
       "      <td>3 Spice Presents</td>\n",
       "      <td>Performances</td>\n",
       "      <td>Dance</td>\n",
       "      <td>2018-01-03</td>\n",
       "      <td>2017-12-04 19:29:21</td>\n",
       "      <td>35</td>\n",
       "      <td>US</td>\n",
       "      <td>1,500.00</td>\n",
       "      <td>1,500.00</td>\n",
       "      <td>29.17</td>\n",
       "      <td>live</td>\n",
       "    </tr>\n",
       "    <tr>\n",
       "      <th>263566</th>\n",
       "      <td>Home Girl</td>\n",
       "      <td>Drama</td>\n",
       "      <td>Film &amp; Video</td>\n",
       "      <td>2018-01-05</td>\n",
       "      <td>2017-12-03 16:35:24</td>\n",
       "      <td>48</td>\n",
       "      <td>GB</td>\n",
       "      <td>4,065.48</td>\n",
       "      <td>4,065.48</td>\n",
       "      <td>32.29</td>\n",
       "      <td>live</td>\n",
       "    </tr>\n",
       "    <tr>\n",
       "      <th>275943</th>\n",
       "      <td>Forgiving Cain - A Documentary on Forgiving Mu...</td>\n",
       "      <td>Documentary</td>\n",
       "      <td>Film &amp; Video</td>\n",
       "      <td>2018-01-15</td>\n",
       "      <td>2017-12-08 17:33:30</td>\n",
       "      <td>22</td>\n",
       "      <td>US</td>\n",
       "      <td>2,000.00</td>\n",
       "      <td>2,000.00</td>\n",
       "      <td>37.25</td>\n",
       "      <td>live</td>\n",
       "    </tr>\n",
       "    <tr>\n",
       "      <th>276865</th>\n",
       "      <td>Help me become a Fashion Designer. (Suspended)</td>\n",
       "      <td>Accessories</td>\n",
       "      <td>Fashion</td>\n",
       "      <td>2015-01-18</td>\n",
       "      <td>2014-11-27 00:03:08</td>\n",
       "      <td>1</td>\n",
       "      <td>US</td>\n",
       "      <td>400.00</td>\n",
       "      <td>400.00</td>\n",
       "      <td>51.96</td>\n",
       "      <td>suspended</td>\n",
       "    </tr>\n",
       "    <tr>\n",
       "      <th>313266</th>\n",
       "      <td>\"Napkin\" (Working Title)</td>\n",
       "      <td>Film &amp; Video</td>\n",
       "      <td>Film &amp; Video</td>\n",
       "      <td>2018-01-19</td>\n",
       "      <td>2017-12-20 18:47:46</td>\n",
       "      <td>2</td>\n",
       "      <td>US</td>\n",
       "      <td>200.00</td>\n",
       "      <td>200.00</td>\n",
       "      <td>29.21</td>\n",
       "      <td>live</td>\n",
       "    </tr>\n",
       "    <tr>\n",
       "      <th>351431</th>\n",
       "      <td>Help Me I'm Poor But Really Want This Cute Ass...</td>\n",
       "      <td>Couture</td>\n",
       "      <td>Fashion</td>\n",
       "      <td>2014-12-26</td>\n",
       "      <td>2014-12-01 23:58:37</td>\n",
       "      <td>11</td>\n",
       "      <td>US</td>\n",
       "      <td>109.00</td>\n",
       "      <td>109.00</td>\n",
       "      <td>24.00</td>\n",
       "      <td>suspended</td>\n",
       "    </tr>\n",
       "  </tbody>\n",
       "</table>\n",
       "</div>"
      ],
      "text/plain": [
       "                                                     name         category  \\\n",
       "990                                Tiddly Trailer Bar Co.           Drinks   \n",
       "4985         Mazie Meadows Morning Show Podcast, Season 2  Performance Art   \n",
       "15289                                    Filmdreh in Wien            Drama   \n",
       "20097   Help get my boyfriend across the state to me! ...             Rock   \n",
       "21157                               Monster Wings Funding     Film & Video   \n",
       "37231   Data Boss: easily find all your data anytime, ...         Software   \n",
       "45873   Coffee at Midnight | A Thesis Film by Avery Du...   Narrative Film   \n",
       "52214     Cinego - Meet Your Personal Immersive 4K Cinema       Technology   \n",
       "71729   I'll take some of that hard earned cash (Suspe...           Comedy   \n",
       "84507                            LIKE THERE'S NO TOMORROW        Immersive   \n",
       "164367  Friend with Cerebral Palsy needs a suit for a ...          Apparel   \n",
       "166736                                   3 Spice Presents     Performances   \n",
       "263566                                          Home Girl            Drama   \n",
       "275943  Forgiving Cain - A Documentary on Forgiving Mu...      Documentary   \n",
       "276865     Help me become a Fashion Designer. (Suspended)      Accessories   \n",
       "313266                           \"Napkin\" (Working Title)     Film & Video   \n",
       "351431  Help Me I'm Poor But Really Want This Cute Ass...          Couture   \n",
       "\n",
       "       main_category   deadline            launched  backers country  \\\n",
       "990             Food 2018-01-02 2017-11-03 21:36:22       36      US   \n",
       "4985             Art 2018-01-22 2017-12-23 00:14:45        1      US   \n",
       "15289   Film & Video 2018-02-11 2017-12-16 09:01:57        1      CH   \n",
       "20097          Music 2015-05-20 2015-04-20 23:28:17        1      US   \n",
       "21157   Film & Video 2018-01-12 2017-11-13 01:05:12        8      US   \n",
       "37231     Technology 2018-01-28 2017-12-24 17:03:30       25      US   \n",
       "45873   Film & Video 2018-01-03 2017-11-29 17:36:13       27      US   \n",
       "52214     Technology 2018-01-09 2017-12-30 19:02:02        3      US   \n",
       "71729   Film & Video 2015-06-21 2015-05-22 00:53:34        1      GB   \n",
       "84507        Theater 2018-01-02 2017-12-12 14:10:56       17      DE   \n",
       "164367       Fashion 2014-10-01 2014-09-17 21:57:42        6      US   \n",
       "166736         Dance 2018-01-03 2017-12-04 19:29:21       35      US   \n",
       "263566  Film & Video 2018-01-05 2017-12-03 16:35:24       48      GB   \n",
       "275943  Film & Video 2018-01-15 2017-12-08 17:33:30       22      US   \n",
       "276865       Fashion 2015-01-18 2014-11-27 00:03:08        1      US   \n",
       "313266  Film & Video 2018-01-19 2017-12-20 18:47:46        2      US   \n",
       "351431       Fashion 2014-12-26 2014-12-01 23:58:37       11      US   \n",
       "\n",
       "        usd_pledged_real  usd_goal_real  time_diff_in_days      State  \n",
       "990             9,500.00       9,500.00              59.08       live  \n",
       "4985              500.00         500.00              29.96       live  \n",
       "15289             102.97         102.97              56.58       live  \n",
       "20097              50.00          50.00              29.00  suspended  \n",
       "21157             800.00         800.00              59.92       live  \n",
       "37231             500.00         500.00              34.25       live  \n",
       "45873           5,000.00       5,000.00              34.25       live  \n",
       "52214           1,000.00       1,000.00               9.17       live  \n",
       "71729              23.59          23.59              29.96  suspended  \n",
       "84507             481.80         481.80              20.38       live  \n",
       "164367            400.00         400.00              13.08  suspended  \n",
       "166736          1,500.00       1,500.00              29.17       live  \n",
       "263566          4,065.48       4,065.48              32.29       live  \n",
       "275943          2,000.00       2,000.00              37.25       live  \n",
       "276865            400.00         400.00              51.96  suspended  \n",
       "313266            200.00         200.00              29.21       live  \n",
       "351431            109.00         109.00              24.00  suspended  "
      ]
     },
     "execution_count": 24,
     "metadata": {},
     "output_type": "execute_result"
    }
   ],
   "source": [
    "remove2 = goal_met[goal_met['State'].isin(['live', 'suspended'])]\n",
    "remove2"
   ]
  },
  {
   "cell_type": "markdown",
   "id": "white-logistics",
   "metadata": {},
   "source": [
    "**From above we can see that there projects that has supporters and met their fund goals yet they are not successful. Could this be related to the number of days between the project lunching date and the deadline? or could this be related to the main category of the project?** <be> \n",
    "\n",
    "**However, for the projects that are classified as *live* or *suspended* they will be removed from the data set, since there is no way to determine if they should be classified as failure or successful. Moreover, they are only 12 observation so removing them won't imapct the results as we have huge number of data**\n"
   ]
  },
  {
   "cell_type": "code",
   "execution_count": 25,
   "id": "usual-optimization",
   "metadata": {},
   "outputs": [],
   "source": [
    "df_new = cleaned_df.copy()"
   ]
  },
  {
   "cell_type": "code",
   "execution_count": 26,
   "id": "thermal-audience",
   "metadata": {},
   "outputs": [],
   "source": [
    "df_new.drop(remove1.index, inplace = True)"
   ]
  },
  {
   "cell_type": "code",
   "execution_count": 27,
   "id": "focused-harrison",
   "metadata": {},
   "outputs": [],
   "source": [
    "df_new.drop(remove2.index, inplace = True)"
   ]
  },
  {
   "cell_type": "code",
   "execution_count": 28,
   "id": "historical-exclusive",
   "metadata": {},
   "outputs": [
    {
     "data": {
      "text/plain": [
       "3099"
      ]
     },
     "execution_count": 28,
     "metadata": {},
     "output_type": "execute_result"
    }
   ],
   "source": [
    "len(cleaned_df) - len(df_new)"
   ]
  },
  {
   "cell_type": "markdown",
   "id": "imposed-cleaners",
   "metadata": {},
   "source": [
    "#### Suspecious rows were removed. Total removed columns are 3099 out of 378657, which represents only 0.8% of the whole data set\n",
    "#### Now further investigation is needed regarding other columns & regarding the project state of undefined, and live as both of these values don't make any sense"
   ]
  },
  {
   "cell_type": "code",
   "execution_count": 29,
   "id": "relative-salon",
   "metadata": {},
   "outputs": [
    {
     "data": {
      "text/plain": [
       "State\n",
       "canceled       38769\n",
       "failed        197630\n",
       "live            2787\n",
       "successful    133851\n",
       "suspended       1838\n",
       "undefined        683\n",
       "Name: State, dtype: int64"
      ]
     },
     "execution_count": 29,
     "metadata": {},
     "output_type": "execute_result"
    }
   ],
   "source": [
    "df_new.groupby('State').State.agg('count')"
   ]
  },
  {
   "cell_type": "code",
   "execution_count": 30,
   "id": "young-undergraduate",
   "metadata": {},
   "outputs": [
    {
     "data": {
      "text/plain": [
       "US     77.91\n",
       "GB      8.97\n",
       "CA      3.93\n",
       "AU      2.09\n",
       "DE      1.11\n",
       "FR      0.78\n",
       "IT      0.77\n",
       "NL      0.76\n",
       "ES      0.61\n",
       "SE      0.47\n",
       "MX      0.47\n",
       "NZ      0.39\n",
       "DK      0.30\n",
       "IE      0.22\n",
       "CH      0.20\n",
       "N,0\"    0.19\n",
       "NO      0.19\n",
       "HK      0.16\n",
       "BE      0.16\n",
       "AT      0.16\n",
       "SG      0.15\n",
       "LU      0.02\n",
       "JP      0.01\n",
       "Name: country, dtype: float64"
      ]
     },
     "execution_count": 30,
     "metadata": {},
     "output_type": "execute_result"
    }
   ],
   "source": [
    "(df_new['country'].value_counts()/df_new['country'].count())*100"
   ]
  },
  {
   "cell_type": "markdown",
   "id": "thirty-peeing",
   "metadata": {},
   "source": [
    "There are two observations regarding the column of country:\n",
    "1. It is imbalance since most of the projects coming from US, almost 80%\n",
    "2. The value of N,0\" has no meaning, hence it needs get removed but after I look at the projects states assoicated with this value to ensure I don't remove important columns that would disturb my analysis and model later on"
   ]
  },
  {
   "cell_type": "code",
   "execution_count": 31,
   "id": "analyzed-solomon",
   "metadata": {},
   "outputs": [
    {
     "data": {
      "text/html": [
       "<div>\n",
       "<style scoped>\n",
       "    .dataframe tbody tr th:only-of-type {\n",
       "        vertical-align: middle;\n",
       "    }\n",
       "\n",
       "    .dataframe tbody tr th {\n",
       "        vertical-align: top;\n",
       "    }\n",
       "\n",
       "    .dataframe thead th {\n",
       "        text-align: right;\n",
       "    }\n",
       "</style>\n",
       "<table border=\"1\" class=\"dataframe\">\n",
       "  <thead>\n",
       "    <tr style=\"text-align: right;\">\n",
       "      <th></th>\n",
       "      <th>backers</th>\n",
       "      <th>usd_pledged_real</th>\n",
       "      <th>usd_goal_real</th>\n",
       "      <th>time_diff_in_days</th>\n",
       "    </tr>\n",
       "    <tr>\n",
       "      <th>State</th>\n",
       "      <th></th>\n",
       "      <th></th>\n",
       "      <th></th>\n",
       "      <th></th>\n",
       "    </tr>\n",
       "  </thead>\n",
       "  <tbody>\n",
       "    <tr>\n",
       "      <th>canceled</th>\n",
       "      <td>25.99</td>\n",
       "      <td>2,340.30</td>\n",
       "      <td>75,593.36</td>\n",
       "      <td>37.68</td>\n",
       "    </tr>\n",
       "    <tr>\n",
       "      <th>failed</th>\n",
       "      <td>16.43</td>\n",
       "      <td>1,320.97</td>\n",
       "      <td>63,183.42</td>\n",
       "      <td>34.59</td>\n",
       "    </tr>\n",
       "    <tr>\n",
       "      <th>live</th>\n",
       "      <td>68.31</td>\n",
       "      <td>5,885.23</td>\n",
       "      <td>62,795.34</td>\n",
       "      <td>39.23</td>\n",
       "    </tr>\n",
       "    <tr>\n",
       "      <th>successful</th>\n",
       "      <td>264.13</td>\n",
       "      <td>22,664.49</td>\n",
       "      <td>9,535.70</td>\n",
       "      <td>31.57</td>\n",
       "    </tr>\n",
       "    <tr>\n",
       "      <th>suspended</th>\n",
       "      <td>105.53</td>\n",
       "      <td>9,342.54</td>\n",
       "      <td>175,953.51</td>\n",
       "      <td>43.95</td>\n",
       "    </tr>\n",
       "    <tr>\n",
       "      <th>undefined</th>\n",
       "      <td>0.00</td>\n",
       "      <td>0.00</td>\n",
       "      <td>4,241.50</td>\n",
       "      <td>32.84</td>\n",
       "    </tr>\n",
       "  </tbody>\n",
       "</table>\n",
       "</div>"
      ],
      "text/plain": [
       "            backers  usd_pledged_real  usd_goal_real  time_diff_in_days\n",
       "State                                                                  \n",
       "canceled      25.99          2,340.30      75,593.36              37.68\n",
       "failed        16.43          1,320.97      63,183.42              34.59\n",
       "live          68.31          5,885.23      62,795.34              39.23\n",
       "successful   264.13         22,664.49       9,535.70              31.57\n",
       "suspended    105.53          9,342.54     175,953.51              43.95\n",
       "undefined      0.00              0.00       4,241.50              32.84"
      ]
     },
     "execution_count": 31,
     "metadata": {},
     "output_type": "execute_result"
    }
   ],
   "source": [
    "df_new.groupby('State').agg('mean')"
   ]
  },
  {
   "cell_type": "markdown",
   "id": "freelance-entrance",
   "metadata": {},
   "source": [
    "**Since \"Undefined\" projects has zero backers & zero pledged fund, it needs to be investigated more before deciding if needs to be dropped or changed to failure**"
   ]
  },
  {
   "cell_type": "code",
   "execution_count": 32,
   "id": "sacred-handle",
   "metadata": {},
   "outputs": [],
   "source": [
    "undefined = df_new[df_new['State'] == 'undefined']"
   ]
  },
  {
   "cell_type": "code",
   "execution_count": 33,
   "id": "french-refund",
   "metadata": {},
   "outputs": [
    {
     "data": {
      "text/plain": [
       "({'N,0\"'}, 683)"
      ]
     },
     "execution_count": 33,
     "metadata": {},
     "output_type": "execute_result"
    }
   ],
   "source": [
    "set(undefined.country), len(undefined)"
   ]
  },
  {
   "cell_type": "code",
   "execution_count": 34,
   "id": "friendly-tuition",
   "metadata": {},
   "outputs": [],
   "source": [
    "N0 = df_new[df_new['country'] == 'N,0\"']"
   ]
  },
  {
   "cell_type": "code",
   "execution_count": 35,
   "id": "seven-myrtle",
   "metadata": {},
   "outputs": [
    {
     "data": {
      "text/plain": [
       "({'canceled', 'failed', 'live', 'undefined'}, 718)"
      ]
     },
     "execution_count": 35,
     "metadata": {},
     "output_type": "execute_result"
    }
   ],
   "source": [
    "set(N0.State), len(N0)"
   ]
  },
  {
   "cell_type": "code",
   "execution_count": 36,
   "id": "latin-houston",
   "metadata": {},
   "outputs": [],
   "source": [
    "df_new.drop(df_new.loc[df_new['country']=='N,0\"'].index, inplace=True)"
   ]
  },
  {
   "cell_type": "code",
   "execution_count": 37,
   "id": "desirable-promise",
   "metadata": {},
   "outputs": [
    {
     "data": {
      "text/html": [
       "<div>\n",
       "<style scoped>\n",
       "    .dataframe tbody tr th:only-of-type {\n",
       "        vertical-align: middle;\n",
       "    }\n",
       "\n",
       "    .dataframe tbody tr th {\n",
       "        vertical-align: top;\n",
       "    }\n",
       "\n",
       "    .dataframe thead th {\n",
       "        text-align: right;\n",
       "    }\n",
       "</style>\n",
       "<table border=\"1\" class=\"dataframe\">\n",
       "  <thead>\n",
       "    <tr style=\"text-align: right;\">\n",
       "      <th></th>\n",
       "      <th>backers</th>\n",
       "      <th>usd_pledged_real</th>\n",
       "      <th>usd_goal_real</th>\n",
       "      <th>time_diff_in_days</th>\n",
       "    </tr>\n",
       "    <tr>\n",
       "      <th>State</th>\n",
       "      <th></th>\n",
       "      <th></th>\n",
       "      <th></th>\n",
       "      <th></th>\n",
       "    </tr>\n",
       "  </thead>\n",
       "  <tbody>\n",
       "    <tr>\n",
       "      <th>canceled</th>\n",
       "      <td>26.00</td>\n",
       "      <td>2,341.03</td>\n",
       "      <td>75,613.45</td>\n",
       "      <td>37.68</td>\n",
       "    </tr>\n",
       "    <tr>\n",
       "      <th>failed</th>\n",
       "      <td>16.43</td>\n",
       "      <td>1,321.12</td>\n",
       "      <td>63,189.89</td>\n",
       "      <td>34.59</td>\n",
       "    </tr>\n",
       "    <tr>\n",
       "      <th>live</th>\n",
       "      <td>68.34</td>\n",
       "      <td>5,887.35</td>\n",
       "      <td>62,808.90</td>\n",
       "      <td>39.23</td>\n",
       "    </tr>\n",
       "    <tr>\n",
       "      <th>successful</th>\n",
       "      <td>264.13</td>\n",
       "      <td>22,664.49</td>\n",
       "      <td>9,535.70</td>\n",
       "      <td>31.57</td>\n",
       "    </tr>\n",
       "    <tr>\n",
       "      <th>suspended</th>\n",
       "      <td>105.53</td>\n",
       "      <td>9,342.54</td>\n",
       "      <td>175,953.51</td>\n",
       "      <td>43.95</td>\n",
       "    </tr>\n",
       "  </tbody>\n",
       "</table>\n",
       "</div>"
      ],
      "text/plain": [
       "            backers  usd_pledged_real  usd_goal_real  time_diff_in_days\n",
       "State                                                                  \n",
       "canceled      26.00          2,341.03      75,613.45              37.68\n",
       "failed        16.43          1,321.12      63,189.89              34.59\n",
       "live          68.34          5,887.35      62,808.90              39.23\n",
       "successful   264.13         22,664.49       9,535.70              31.57\n",
       "suspended    105.53          9,342.54     175,953.51              43.95"
      ]
     },
     "execution_count": 37,
     "metadata": {},
     "output_type": "execute_result"
    }
   ],
   "source": [
    "df_new.groupby('State').agg('mean')"
   ]
  },
  {
   "cell_type": "code",
   "execution_count": 38,
   "id": "external-internship",
   "metadata": {},
   "outputs": [
    {
     "data": {
      "text/plain": [
       "failed       52.72\n",
       "successful   35.71\n",
       "canceled     10.34\n",
       "live          0.74\n",
       "suspended     0.49\n",
       "Name: State, dtype: float64"
      ]
     },
     "execution_count": 38,
     "metadata": {},
     "output_type": "execute_result"
    }
   ],
   "source": [
    "(df_new['State'].value_counts()/df_new['State'].count())*100"
   ]
  },
  {
   "cell_type": "code",
   "execution_count": 39,
   "id": "nominated-gazette",
   "metadata": {},
   "outputs": [],
   "source": [
    "df_new[df_new['State'] == 'live']; "
   ]
  },
  {
   "cell_type": "markdown",
   "id": "brown-demonstration",
   "metadata": {},
   "source": [
    "It can be seen that projects state of live doesn't make any sense and since those projects deadline has passed and apperantly didn't reach to their target fund, it is better to convert them to failed"
   ]
  },
  {
   "cell_type": "code",
   "execution_count": 40,
   "id": "juvenile-costume",
   "metadata": {},
   "outputs": [],
   "source": [
    "df_new.loc[df_new['State'] == 'live', 'State'] = 'failed'"
   ]
  },
  {
   "cell_type": "code",
   "execution_count": 41,
   "id": "median-temple",
   "metadata": {},
   "outputs": [
    {
     "data": {
      "text/plain": [
       "Film & Video   16.72\n",
       "Music          13.21\n",
       "Publishing     10.51\n",
       "Games           9.40\n",
       "Technology      8.69\n",
       "Design          8.02\n",
       "Art             7.51\n",
       "Food            6.56\n",
       "Fashion         6.08\n",
       "Theater         2.91\n",
       "Comics          2.89\n",
       "Photography     2.88\n",
       "Crafts          2.35\n",
       "Journalism      1.27\n",
       "Dance           1.00\n",
       "Name: main_category, dtype: float64"
      ]
     },
     "execution_count": 41,
     "metadata": {},
     "output_type": "execute_result"
    }
   ],
   "source": [
    "(df_new['main_category'].value_counts()/df_new['main_category'].count())*100"
   ]
  },
  {
   "cell_type": "code",
   "execution_count": 42,
   "id": "loaded-japan",
   "metadata": {},
   "outputs": [
    {
     "data": {
      "text/html": [
       "<div>\n",
       "<style scoped>\n",
       "    .dataframe tbody tr th:only-of-type {\n",
       "        vertical-align: middle;\n",
       "    }\n",
       "\n",
       "    .dataframe tbody tr th {\n",
       "        vertical-align: top;\n",
       "    }\n",
       "\n",
       "    .dataframe thead th {\n",
       "        text-align: right;\n",
       "    }\n",
       "</style>\n",
       "<table border=\"1\" class=\"dataframe\">\n",
       "  <thead>\n",
       "    <tr style=\"text-align: right;\">\n",
       "      <th></th>\n",
       "      <th>name</th>\n",
       "      <th>category</th>\n",
       "      <th>main_category</th>\n",
       "      <th>deadline</th>\n",
       "      <th>launched</th>\n",
       "      <th>backers</th>\n",
       "      <th>country</th>\n",
       "      <th>usd_pledged_real</th>\n",
       "      <th>usd_goal_real</th>\n",
       "      <th>time_diff_in_days</th>\n",
       "      <th>State</th>\n",
       "    </tr>\n",
       "  </thead>\n",
       "  <tbody>\n",
       "    <tr>\n",
       "      <th>0</th>\n",
       "      <td>The Songs of Adelaide &amp; Abullah</td>\n",
       "      <td>Poetry</td>\n",
       "      <td>Publishing</td>\n",
       "      <td>2015-10-09</td>\n",
       "      <td>2015-08-11 12:12:28</td>\n",
       "      <td>0</td>\n",
       "      <td>GB</td>\n",
       "      <td>0.00</td>\n",
       "      <td>1,533.95</td>\n",
       "      <td>58.46</td>\n",
       "      <td>failed</td>\n",
       "    </tr>\n",
       "    <tr>\n",
       "      <th>1</th>\n",
       "      <td>Greeting From Earth: ZGAC Arts Capsule For ET</td>\n",
       "      <td>Narrative Film</td>\n",
       "      <td>Film &amp; Video</td>\n",
       "      <td>2017-11-01</td>\n",
       "      <td>2017-09-02 04:43:57</td>\n",
       "      <td>15</td>\n",
       "      <td>US</td>\n",
       "      <td>2,421.00</td>\n",
       "      <td>30,000.00</td>\n",
       "      <td>59.79</td>\n",
       "      <td>failed</td>\n",
       "    </tr>\n",
       "    <tr>\n",
       "      <th>2</th>\n",
       "      <td>Where is Hank?</td>\n",
       "      <td>Narrative Film</td>\n",
       "      <td>Film &amp; Video</td>\n",
       "      <td>2013-02-26</td>\n",
       "      <td>2013-01-12 00:20:50</td>\n",
       "      <td>3</td>\n",
       "      <td>US</td>\n",
       "      <td>220.00</td>\n",
       "      <td>45,000.00</td>\n",
       "      <td>44.96</td>\n",
       "      <td>failed</td>\n",
       "    </tr>\n",
       "    <tr>\n",
       "      <th>3</th>\n",
       "      <td>ToshiCapital Rekordz Needs Help to Complete Album</td>\n",
       "      <td>Music</td>\n",
       "      <td>Music</td>\n",
       "      <td>2012-04-16</td>\n",
       "      <td>2012-03-17 03:24:11</td>\n",
       "      <td>1</td>\n",
       "      <td>US</td>\n",
       "      <td>1.00</td>\n",
       "      <td>5,000.00</td>\n",
       "      <td>29.83</td>\n",
       "      <td>failed</td>\n",
       "    </tr>\n",
       "    <tr>\n",
       "      <th>4</th>\n",
       "      <td>Community Film Project: The Art of Neighborhoo...</td>\n",
       "      <td>Film &amp; Video</td>\n",
       "      <td>Film &amp; Video</td>\n",
       "      <td>2015-08-29</td>\n",
       "      <td>2015-07-04 08:35:03</td>\n",
       "      <td>14</td>\n",
       "      <td>US</td>\n",
       "      <td>1,283.00</td>\n",
       "      <td>19,500.00</td>\n",
       "      <td>55.62</td>\n",
       "      <td>canceled</td>\n",
       "    </tr>\n",
       "  </tbody>\n",
       "</table>\n",
       "</div>"
      ],
      "text/plain": [
       "                                                name        category  \\\n",
       "0                    The Songs of Adelaide & Abullah          Poetry   \n",
       "1      Greeting From Earth: ZGAC Arts Capsule For ET  Narrative Film   \n",
       "2                                     Where is Hank?  Narrative Film   \n",
       "3  ToshiCapital Rekordz Needs Help to Complete Album           Music   \n",
       "4  Community Film Project: The Art of Neighborhoo...    Film & Video   \n",
       "\n",
       "  main_category   deadline            launched  backers country  \\\n",
       "0    Publishing 2015-10-09 2015-08-11 12:12:28        0      GB   \n",
       "1  Film & Video 2017-11-01 2017-09-02 04:43:57       15      US   \n",
       "2  Film & Video 2013-02-26 2013-01-12 00:20:50        3      US   \n",
       "3         Music 2012-04-16 2012-03-17 03:24:11        1      US   \n",
       "4  Film & Video 2015-08-29 2015-07-04 08:35:03       14      US   \n",
       "\n",
       "   usd_pledged_real  usd_goal_real  time_diff_in_days     State  \n",
       "0              0.00       1,533.95              58.46    failed  \n",
       "1          2,421.00      30,000.00              59.79    failed  \n",
       "2            220.00      45,000.00              44.96    failed  \n",
       "3              1.00       5,000.00              29.83    failed  \n",
       "4          1,283.00      19,500.00              55.62  canceled  "
      ]
     },
     "execution_count": 42,
     "metadata": {},
     "output_type": "execute_result"
    }
   ],
   "source": [
    "df_new.head()"
   ]
  },
  {
   "cell_type": "code",
   "execution_count": 47,
   "id": "pursuant-machinery",
   "metadata": {},
   "outputs": [
    {
     "data": {
      "text/plain": [
       "Text(0.5, 1.0, 'Project State vs The number of backers')"
      ]
     },
     "execution_count": 47,
     "metadata": {},
     "output_type": "execute_result"
    },
    {
     "data": {
      "image/png": "[encoded data removed]",
      "text/plain": [
       "<Figure size 3600x2160 with 1 Axes>"
      ]
     },
     "metadata": {},
     "output_type": "display_data"
    }
   ],
   "source": [
    "sns.set(rc={'figure.figsize':(50,30)})\n",
    "sns.set(font_scale = 2)\n",
    "ax = sns.violinplot(x=\"State\",y=\"backers\",  data=df_new, order = ['successful', 'suspended', 'failed', 'canceled'], scale_hue=False)\n",
    "ax.set_yscale(\"log\")\n",
    "plt.title(\"Project State vs The number of backers\")"
   ]
  },
  {
   "cell_type": "markdown",
   "id": "addressed-anthony",
   "metadata": {},
   "source": [
    "**From the above figure and table, it can be seen that the number of backers is very high for successful project, high means, and low distribution. While for unsuccessful projects thy have high variance and low mean of backers.**"
   ]
  },
  {
   "cell_type": "code",
   "execution_count": 44,
   "id": "natural-amateur",
   "metadata": {
    "collapsed": true,
    "jupyter": {
     "outputs_hidden": true,
     "source_hidden": true
    }
   },
   "outputs": [
    {
     "data": {
      "text/plain": [
       "Text(0.5, 1.0, 'Project State vs The number of backers')"
      ]
     },
     "execution_count": 44,
     "metadata": {},
     "output_type": "execute_result"
    },
    {
     "data": {
      "image/png": "[encoded data removed]",
      "text/plain": [
       "<Figure size 1440x1080 with 1 Axes>"
      ]
     },
     "metadata": {},
     "output_type": "display_data"
    }
   ],
   "source": [
    "sns.set(rc={'figure.figsize':(20,15)})\n",
    "sns.set(font_scale = 2)\n",
    "y = df_new['backers']/df_new['backers'].max()\n",
    "ax = sns.violinplot(x=\"State\",y=y,  data=df_new)\n",
    "ax.set_ylim(0, 0.15);\n",
    "plt.title(\"Project State vs The number of backers\")"
   ]
  },
  {
   "cell_type": "code",
   "execution_count": 48,
   "id": "chief-zambia",
   "metadata": {},
   "outputs": [
    {
     "data": {
      "text/plain": [
       "Text(0.5, 1.0, 'Project State vs The number of days for completing the project')"
      ]
     },
     "execution_count": 48,
     "metadata": {},
     "output_type": "execute_result"
    },
    {
     "data": {
      "image/png": "[encoded data removed]",
      "text/plain": [
       "<Figure size 1440x1080 with 1 Axes>"
      ]
     },
     "metadata": {},
     "output_type": "display_data"
    }
   ],
   "source": [
    "sns.set(rc={'figure.figsize':(20,15)})\n",
    "sns.set(font_scale = 2)\n",
    "ax = sns.barplot(x=\"State\",y=\"time_diff_in_days\",  data=df_new, order = ['suspended', 'canceled', 'failed', 'successful'])\n",
    "plt.title(\"Project State vs The number of days for completing the project\")"
   ]
  },
  {
   "cell_type": "code",
   "execution_count": 49,
   "id": "material-flood",
   "metadata": {},
   "outputs": [
    {
     "data": {
      "text/plain": [
       "Text(0.5, 1.0, 'Project State vs The number of days for compeliting the project')"
      ]
     },
     "execution_count": 49,
     "metadata": {},
     "output_type": "execute_result"
    },
    {
     "data": {
      "image/png": "[encoded data removed]",
      "text/plain": [
       "<Figure size 1440x1080 with 1 Axes>"
      ]
     },
     "metadata": {},
     "output_type": "display_data"
    }
   ],
   "source": [
    "sns.set(rc={'figure.figsize':(20,15)})\n",
    "sns.set(font_scale = 2)\n",
    "ax = sns.violinplot(x=\"State\",y=\"time_diff_in_days\",  data=df_new, order = ['suspended', 'canceled', 'failed', 'successful'])\n",
    "ax.set_yscale(\"log\")\n",
    "plt.title(\"Project State vs The number of days for compeliting the project\")"
   ]
  },
  {
   "cell_type": "markdown",
   "id": "noted-military",
   "metadata": {},
   "source": [
    "**It can be seen that the distribution for the number days a project takes is high for all states except for cancelled or suspended ones, which have very low distribution and higher means than others. Additional observation is that the lower number of days a project takes on average to be completed, it has less probability to be cancelled or suspended**"
   ]
  },
  {
   "cell_type": "code",
   "execution_count": 50,
   "id": "collect-printing",
   "metadata": {},
   "outputs": [
    {
     "data": {
      "text/plain": [
       "Text(0.5, 1.0, 'Project State vs The Amount of excess fund')"
      ]
     },
     "execution_count": 50,
     "metadata": {},
     "output_type": "execute_result"
    },
    {
     "data": {
      "image/png": "[encoded data removed]",
      "text/plain": [
       "<Figure size 1440x1080 with 1 Axes>"
      ]
     },
     "metadata": {},
     "output_type": "display_data"
    }
   ],
   "source": [
    "sns.set(rc={'figure.figsize':(20,15)})\n",
    "sns.set(font_scale = 2)\n",
    "excess_money = df_new['usd_goal_real'] - df_new['usd_pledged_real']\n",
    "ax = sns.barplot(x=\"State\",y=excess_money,  data=df_new, order = ['suspended', 'canceled', 'failed', 'successful'])\n",
    "plt.title(\"Project State vs The Amount of excess fund\")"
   ]
  },
  {
   "cell_type": "markdown",
   "id": "under-newfoundland",
   "metadata": {},
   "source": [
    "**We can see from above chart two main observations that make difference between successful projects and unsuccessful ones:<br>\n",
    "1- Successful projects tend to have more backers.<br>\n",
    "2- Successful projects usually end up with exccess fund\n",
    "<br>**\n",
    "\n",
    "There are three remaining aspects to look from:\n",
    "1. Does the country where the project takes place contrbute towards its successful?\n",
    "2. Does certin project's main category has influance over the project success? where some categories are more demnaded.\n",
    "3. Does successful projects require less money than unsccessful ones? making them more attractive for backers\n"
   ]
  },
  {
   "cell_type": "code",
   "execution_count": 51,
   "id": "funky-limitation",
   "metadata": {},
   "outputs": [
    {
     "data": {
      "text/plain": [
       "Text(0.5, 1.0, 'Project State vs The Amount of fund needed for the project')"
      ]
     },
     "execution_count": 51,
     "metadata": {},
     "output_type": "execute_result"
    },
    {
     "data": {
      "image/png": "[encoded data removed]",
      "text/plain": [
       "<Figure size 1440x1080 with 1 Axes>"
      ]
     },
     "metadata": {},
     "output_type": "display_data"
    }
   ],
   "source": [
    "sns.set(rc={'figure.figsize':(20,15)})\n",
    "sns.set(font_scale = 2)\n",
    "sns.histplot(df_new, x=\"usd_goal_real\",hue=\"State\", binwidth = .15, edgecolor=\"1\", linewidth=0.2, log_scale=True)\n",
    "plt.title(\"Project State vs The Amount of fund needed for the project\")"
   ]
  },
  {
   "cell_type": "markdown",
   "id": "gentle-toddler",
   "metadata": {},
   "source": [
    "**The figure above shows that successful project cost usually falls between 1000 USD and 10000 USD, While failed projects and cancelled ones usually cost higher than 10000 USD.**"
   ]
  },
  {
   "cell_type": "markdown",
   "id": "increasing-allah",
   "metadata": {},
   "source": [
    "I will go through the distribution of the main categories and the countries of those project."
   ]
  },
  {
   "cell_type": "code",
   "execution_count": 52,
   "id": "mental-lottery",
   "metadata": {},
   "outputs": [
    {
     "data": {
      "text/plain": [
       "<AxesSubplot:xlabel='State,country'>"
      ]
     },
     "execution_count": 52,
     "metadata": {},
     "output_type": "execute_result"
    },
    {
     "data": {
      "image/png": "[encoded data removed]",
      "text/plain": [
       "<Figure size 1440x1080 with 1 Axes>"
      ]
     },
     "metadata": {},
     "output_type": "display_data"
    }
   ],
   "source": [
    "df_new.groupby(['State'])['country'].value_counts().plot(kind='bar')"
   ]
  },
  {
   "cell_type": "code",
   "execution_count": 53,
   "id": "working-religious",
   "metadata": {},
   "outputs": [
    {
     "data": {
      "text/html": [
       "<div>\n",
       "<style scoped>\n",
       "    .dataframe tbody tr th:only-of-type {\n",
       "        vertical-align: middle;\n",
       "    }\n",
       "\n",
       "    .dataframe tbody tr th {\n",
       "        vertical-align: top;\n",
       "    }\n",
       "\n",
       "    .dataframe thead th {\n",
       "        text-align: right;\n",
       "    }\n",
       "</style>\n",
       "<table border=\"1\" class=\"dataframe\">\n",
       "  <thead>\n",
       "    <tr style=\"text-align: right;\">\n",
       "      <th>State</th>\n",
       "      <th>canceled</th>\n",
       "      <th>failed</th>\n",
       "      <th>successful</th>\n",
       "      <th>suspended</th>\n",
       "    </tr>\n",
       "  </thead>\n",
       "  <tbody>\n",
       "    <tr>\n",
       "      <th>Art</th>\n",
       "      <td>0.06</td>\n",
       "      <td>0.07</td>\n",
       "      <td>0.09</td>\n",
       "      <td>0.05</td>\n",
       "    </tr>\n",
       "    <tr>\n",
       "      <th>Comics</th>\n",
       "      <td>0.02</td>\n",
       "      <td>0.02</td>\n",
       "      <td>0.04</td>\n",
       "      <td>0.01</td>\n",
       "    </tr>\n",
       "    <tr>\n",
       "      <th>Crafts</th>\n",
       "      <td>0.02</td>\n",
       "      <td>0.03</td>\n",
       "      <td>0.02</td>\n",
       "      <td>0.04</td>\n",
       "    </tr>\n",
       "    <tr>\n",
       "      <th>Dance</th>\n",
       "      <td>0.0</td>\n",
       "      <td>0.01</td>\n",
       "      <td>0.02</td>\n",
       "      <td>0.01</td>\n",
       "    </tr>\n",
       "    <tr>\n",
       "      <th>Design</th>\n",
       "      <td>0.11</td>\n",
       "      <td>0.08</td>\n",
       "      <td>0.08</td>\n",
       "      <td>0.13</td>\n",
       "    </tr>\n",
       "    <tr>\n",
       "      <th>Fashion</th>\n",
       "      <td>0.07</td>\n",
       "      <td>0.07</td>\n",
       "      <td>0.04</td>\n",
       "      <td>0.07</td>\n",
       "    </tr>\n",
       "    <tr>\n",
       "      <th>Film &amp; Video</th>\n",
       "      <td>0.15</td>\n",
       "      <td>0.17</td>\n",
       "      <td>0.18</td>\n",
       "      <td>0.06</td>\n",
       "    </tr>\n",
       "    <tr>\n",
       "      <th>Food</th>\n",
       "      <td>0.06</td>\n",
       "      <td>0.08</td>\n",
       "      <td>0.05</td>\n",
       "      <td>0.08</td>\n",
       "    </tr>\n",
       "    <tr>\n",
       "      <th>Games</th>\n",
       "      <td>0.16</td>\n",
       "      <td>0.08</td>\n",
       "      <td>0.09</td>\n",
       "      <td>0.12</td>\n",
       "    </tr>\n",
       "    <tr>\n",
       "      <th>Journalism</th>\n",
       "      <td>0.01</td>\n",
       "      <td>0.02</td>\n",
       "      <td>0.01</td>\n",
       "      <td>0.03</td>\n",
       "    </tr>\n",
       "    <tr>\n",
       "      <th>Music</th>\n",
       "      <td>0.09</td>\n",
       "      <td>0.11</td>\n",
       "      <td>0.18</td>\n",
       "      <td>0.08</td>\n",
       "    </tr>\n",
       "    <tr>\n",
       "      <th>Photography</th>\n",
       "      <td>0.03</td>\n",
       "      <td>0.03</td>\n",
       "      <td>0.02</td>\n",
       "      <td>0.03</td>\n",
       "    </tr>\n",
       "    <tr>\n",
       "      <th>Publishing</th>\n",
       "      <td>0.09</td>\n",
       "      <td>0.12</td>\n",
       "      <td>0.09</td>\n",
       "      <td>0.04</td>\n",
       "    </tr>\n",
       "    <tr>\n",
       "      <th>Technology</th>\n",
       "      <td>0.12</td>\n",
       "      <td>0.1</td>\n",
       "      <td>0.05</td>\n",
       "      <td>0.23</td>\n",
       "    </tr>\n",
       "    <tr>\n",
       "      <th>Theater</th>\n",
       "      <td>0.02</td>\n",
       "      <td>0.02</td>\n",
       "      <td>0.05</td>\n",
       "      <td>0.01</td>\n",
       "    </tr>\n",
       "  </tbody>\n",
       "</table>\n",
       "</div>"
      ],
      "text/plain": [
       "State        canceled failed successful suspended\n",
       "Art              0.06   0.07       0.09      0.05\n",
       "Comics           0.02   0.02       0.04      0.01\n",
       "Crafts           0.02   0.03       0.02      0.04\n",
       "Dance             0.0   0.01       0.02      0.01\n",
       "Design           0.11   0.08       0.08      0.13\n",
       "Fashion          0.07   0.07       0.04      0.07\n",
       "Film & Video     0.15   0.17       0.18      0.06\n",
       "Food             0.06   0.08       0.05      0.08\n",
       "Games            0.16   0.08       0.09      0.12\n",
       "Journalism       0.01   0.02       0.01      0.03\n",
       "Music            0.09   0.11       0.18      0.08\n",
       "Photography      0.03   0.03       0.02      0.03\n",
       "Publishing       0.09   0.12       0.09      0.04\n",
       "Technology       0.12    0.1       0.05      0.23\n",
       "Theater          0.02   0.02       0.05      0.01"
      ]
     },
     "execution_count": 53,
     "metadata": {},
     "output_type": "execute_result"
    }
   ],
   "source": [
    "df3 = pd.get_dummies(df_new[['main_category']], prefix=\"\", prefix_sep=\"\")\n",
    "df3['State'] = df_new['State'] \n",
    "fixed_columns = [df3.columns[-1]] + list(df3.columns[:-1])\n",
    "df3 = df3[fixed_columns]\n",
    "df3_grouped = df3.groupby('State').mean().reset_index()\n",
    "df3_grouped = df3_grouped.transpose()\n",
    "df3_grouped.columns = df3_grouped.iloc[0]\n",
    "df3_grouped.drop(index=df3_grouped.index[0], \n",
    "        axis=0, \n",
    "        inplace=True)\n",
    "df3_grouped.head(15)"
   ]
  },
  {
   "cell_type": "code",
   "execution_count": 54,
   "id": "japanese-north",
   "metadata": {},
   "outputs": [
    {
     "data": {
      "text/plain": [
       "Text(0.5, 1.0, 'Project State vs Project Categories')"
      ]
     },
     "execution_count": 54,
     "metadata": {},
     "output_type": "execute_result"
    },
    {
     "data": {
      "image/png": "[encoded data removed]",
      "text/plain": [
       "<Figure size 1080x720 with 1 Axes>"
      ]
     },
     "metadata": {},
     "output_type": "display_data"
    }
   ],
   "source": [
    "df3_grouped.plot(kind = 'bar', figsize = (15, 10), sort_columns=True)\n",
    "plt.title(\"Project State vs Project Categories\")"
   ]
  },
  {
   "cell_type": "markdown",
   "id": "persistent-relation",
   "metadata": {},
   "source": [
    "##### From above it can be seen that there are 4 features that seems to be affecting the projects success:<br>\n",
    "1. Number of backers\n",
    "2. The amout of money a project needs to be completed\n",
    "3. The number of days for project to be completed (it is not very crucial when it comes to the difference between failed and successful projects) \n",
    "4. The project related industrey (is the project realted to music industrey, games, art,...etc)\n",
    "\n",
    "* The amount of pledged money can be argued about whether to be included or not as it is not directly controlled. "
   ]
  },
  {
   "cell_type": "markdown",
   "id": "solved-capitol",
   "metadata": {},
   "source": [
    "## Section 4: Data Modeling"
   ]
  },
  {
   "cell_type": "markdown",
   "id": "clean-spider",
   "metadata": {},
   "source": [
    "#### Since the main question at the begining of this project was to predict if a project is going to success or not regardless of whither the unsuccessful project failed, canceled, or suspended. Hence, additonal column will be added which consists of zeros and ones. One will be asigned to successful project and zero will asigned to unsuccessful projects. At the end this is like a bank load project, an investor would like to know if a project worth investing in or not."
   ]
  },
  {
   "cell_type": "code",
   "execution_count": 55,
   "id": "becoming-auditor",
   "metadata": {},
   "outputs": [
    {
     "data": {
      "text/html": [
       "<div>\n",
       "<style scoped>\n",
       "    .dataframe tbody tr th:only-of-type {\n",
       "        vertical-align: middle;\n",
       "    }\n",
       "\n",
       "    .dataframe tbody tr th {\n",
       "        vertical-align: top;\n",
       "    }\n",
       "\n",
       "    .dataframe thead th {\n",
       "        text-align: right;\n",
       "    }\n",
       "</style>\n",
       "<table border=\"1\" class=\"dataframe\">\n",
       "  <thead>\n",
       "    <tr style=\"text-align: right;\">\n",
       "      <th></th>\n",
       "      <th>name</th>\n",
       "      <th>category</th>\n",
       "      <th>main_category</th>\n",
       "      <th>deadline</th>\n",
       "      <th>launched</th>\n",
       "      <th>backers</th>\n",
       "      <th>country</th>\n",
       "      <th>usd_pledged_real</th>\n",
       "      <th>usd_goal_real</th>\n",
       "      <th>time_diff_in_days</th>\n",
       "      <th>State</th>\n",
       "    </tr>\n",
       "  </thead>\n",
       "  <tbody>\n",
       "    <tr>\n",
       "      <th>0</th>\n",
       "      <td>The Songs of Adelaide &amp; Abullah</td>\n",
       "      <td>Poetry</td>\n",
       "      <td>Publishing</td>\n",
       "      <td>2015-10-09</td>\n",
       "      <td>2015-08-11 12:12:28</td>\n",
       "      <td>0</td>\n",
       "      <td>GB</td>\n",
       "      <td>0.00</td>\n",
       "      <td>1,533.95</td>\n",
       "      <td>58.46</td>\n",
       "      <td>failed</td>\n",
       "    </tr>\n",
       "    <tr>\n",
       "      <th>1</th>\n",
       "      <td>Greeting From Earth: ZGAC Arts Capsule For ET</td>\n",
       "      <td>Narrative Film</td>\n",
       "      <td>Film &amp; Video</td>\n",
       "      <td>2017-11-01</td>\n",
       "      <td>2017-09-02 04:43:57</td>\n",
       "      <td>15</td>\n",
       "      <td>US</td>\n",
       "      <td>2,421.00</td>\n",
       "      <td>30,000.00</td>\n",
       "      <td>59.79</td>\n",
       "      <td>failed</td>\n",
       "    </tr>\n",
       "    <tr>\n",
       "      <th>2</th>\n",
       "      <td>Where is Hank?</td>\n",
       "      <td>Narrative Film</td>\n",
       "      <td>Film &amp; Video</td>\n",
       "      <td>2013-02-26</td>\n",
       "      <td>2013-01-12 00:20:50</td>\n",
       "      <td>3</td>\n",
       "      <td>US</td>\n",
       "      <td>220.00</td>\n",
       "      <td>45,000.00</td>\n",
       "      <td>44.96</td>\n",
       "      <td>failed</td>\n",
       "    </tr>\n",
       "    <tr>\n",
       "      <th>3</th>\n",
       "      <td>ToshiCapital Rekordz Needs Help to Complete Album</td>\n",
       "      <td>Music</td>\n",
       "      <td>Music</td>\n",
       "      <td>2012-04-16</td>\n",
       "      <td>2012-03-17 03:24:11</td>\n",
       "      <td>1</td>\n",
       "      <td>US</td>\n",
       "      <td>1.00</td>\n",
       "      <td>5,000.00</td>\n",
       "      <td>29.83</td>\n",
       "      <td>failed</td>\n",
       "    </tr>\n",
       "    <tr>\n",
       "      <th>4</th>\n",
       "      <td>Community Film Project: The Art of Neighborhoo...</td>\n",
       "      <td>Film &amp; Video</td>\n",
       "      <td>Film &amp; Video</td>\n",
       "      <td>2015-08-29</td>\n",
       "      <td>2015-07-04 08:35:03</td>\n",
       "      <td>14</td>\n",
       "      <td>US</td>\n",
       "      <td>1,283.00</td>\n",
       "      <td>19,500.00</td>\n",
       "      <td>55.62</td>\n",
       "      <td>canceled</td>\n",
       "    </tr>\n",
       "  </tbody>\n",
       "</table>\n",
       "</div>"
      ],
      "text/plain": [
       "                                                name        category  \\\n",
       "0                    The Songs of Adelaide & Abullah          Poetry   \n",
       "1      Greeting From Earth: ZGAC Arts Capsule For ET  Narrative Film   \n",
       "2                                     Where is Hank?  Narrative Film   \n",
       "3  ToshiCapital Rekordz Needs Help to Complete Album           Music   \n",
       "4  Community Film Project: The Art of Neighborhoo...    Film & Video   \n",
       "\n",
       "  main_category   deadline            launched  backers country  \\\n",
       "0    Publishing 2015-10-09 2015-08-11 12:12:28        0      GB   \n",
       "1  Film & Video 2017-11-01 2017-09-02 04:43:57       15      US   \n",
       "2  Film & Video 2013-02-26 2013-01-12 00:20:50        3      US   \n",
       "3         Music 2012-04-16 2012-03-17 03:24:11        1      US   \n",
       "4  Film & Video 2015-08-29 2015-07-04 08:35:03       14      US   \n",
       "\n",
       "   usd_pledged_real  usd_goal_real  time_diff_in_days     State  \n",
       "0              0.00       1,533.95              58.46    failed  \n",
       "1          2,421.00      30,000.00              59.79    failed  \n",
       "2            220.00      45,000.00              44.96    failed  \n",
       "3              1.00       5,000.00              29.83    failed  \n",
       "4          1,283.00      19,500.00              55.62  canceled  "
      ]
     },
     "execution_count": 55,
     "metadata": {},
     "output_type": "execute_result"
    }
   ],
   "source": [
    "df_new.head() ## Reviewing the the date frame"
   ]
  },
  {
   "cell_type": "code",
   "execution_count": 56,
   "id": "annual-forge",
   "metadata": {},
   "outputs": [],
   "source": [
    "df2 = df_new.copy()\n",
    "df2[df2['State'] == 'successful']\n",
    "df2['Successful_or_not'] = np.where(df2['State'] == 'successful', 1, 0)\n"
   ]
  },
  {
   "cell_type": "code",
   "execution_count": 57,
   "id": "involved-storm",
   "metadata": {
    "jupyter": {
     "source_hidden": true
    }
   },
   "outputs": [
    {
     "data": {
      "text/html": [
       "<div>\n",
       "<style scoped>\n",
       "    .dataframe tbody tr th:only-of-type {\n",
       "        vertical-align: middle;\n",
       "    }\n",
       "\n",
       "    .dataframe tbody tr th {\n",
       "        vertical-align: top;\n",
       "    }\n",
       "\n",
       "    .dataframe thead th {\n",
       "        text-align: right;\n",
       "    }\n",
       "</style>\n",
       "<table border=\"1\" class=\"dataframe\">\n",
       "  <thead>\n",
       "    <tr style=\"text-align: right;\">\n",
       "      <th></th>\n",
       "      <th>name</th>\n",
       "      <th>category</th>\n",
       "      <th>main_category</th>\n",
       "      <th>deadline</th>\n",
       "      <th>launched</th>\n",
       "      <th>backers</th>\n",
       "      <th>country</th>\n",
       "      <th>usd_pledged_real</th>\n",
       "      <th>usd_goal_real</th>\n",
       "      <th>time_diff_in_days</th>\n",
       "      <th>State</th>\n",
       "      <th>Successful_or_not</th>\n",
       "    </tr>\n",
       "  </thead>\n",
       "  <tbody>\n",
       "    <tr>\n",
       "      <th>5</th>\n",
       "      <td>Monarch Espresso Bar</td>\n",
       "      <td>Restaurants</td>\n",
       "      <td>Food</td>\n",
       "      <td>2016-04-01</td>\n",
       "      <td>2016-02-26 13:38:27</td>\n",
       "      <td>224</td>\n",
       "      <td>US</td>\n",
       "      <td>52,375.00</td>\n",
       "      <td>50,000.00</td>\n",
       "      <td>34.42</td>\n",
       "      <td>successful</td>\n",
       "      <td>1</td>\n",
       "    </tr>\n",
       "    <tr>\n",
       "      <th>6</th>\n",
       "      <td>Support Solar Roasted Coffee &amp; Green Energy!  ...</td>\n",
       "      <td>Food</td>\n",
       "      <td>Food</td>\n",
       "      <td>2014-12-21</td>\n",
       "      <td>2014-12-01 18:30:44</td>\n",
       "      <td>16</td>\n",
       "      <td>US</td>\n",
       "      <td>1,205.00</td>\n",
       "      <td>1,000.00</td>\n",
       "      <td>19.21</td>\n",
       "      <td>successful</td>\n",
       "      <td>1</td>\n",
       "    </tr>\n",
       "    <tr>\n",
       "      <th>11</th>\n",
       "      <td>Lisa Lim New CD!</td>\n",
       "      <td>Indie Rock</td>\n",
       "      <td>Music</td>\n",
       "      <td>2013-04-08</td>\n",
       "      <td>2013-03-09 06:42:58</td>\n",
       "      <td>100</td>\n",
       "      <td>US</td>\n",
       "      <td>12,700.00</td>\n",
       "      <td>12,500.00</td>\n",
       "      <td>29.71</td>\n",
       "      <td>successful</td>\n",
       "      <td>1</td>\n",
       "    </tr>\n",
       "    <tr>\n",
       "      <th>14</th>\n",
       "      <td>Tombstone: Old West tabletop game and miniatur...</td>\n",
       "      <td>Tabletop Games</td>\n",
       "      <td>Games</td>\n",
       "      <td>2017-05-03</td>\n",
       "      <td>2017-04-05 19:44:18</td>\n",
       "      <td>761</td>\n",
       "      <td>GB</td>\n",
       "      <td>121,857.33</td>\n",
       "      <td>6,469.73</td>\n",
       "      <td>27.17</td>\n",
       "      <td>successful</td>\n",
       "      <td>1</td>\n",
       "    </tr>\n",
       "    <tr>\n",
       "      <th>18</th>\n",
       "      <td>Mike Corey's Darkness &amp; Light Album</td>\n",
       "      <td>Music</td>\n",
       "      <td>Music</td>\n",
       "      <td>2012-08-17</td>\n",
       "      <td>2012-08-02 14:11:32</td>\n",
       "      <td>7</td>\n",
       "      <td>US</td>\n",
       "      <td>250.00</td>\n",
       "      <td>250.00</td>\n",
       "      <td>14.38</td>\n",
       "      <td>successful</td>\n",
       "      <td>1</td>\n",
       "    </tr>\n",
       "    <tr>\n",
       "      <th>...</th>\n",
       "      <td>...</td>\n",
       "      <td>...</td>\n",
       "      <td>...</td>\n",
       "      <td>...</td>\n",
       "      <td>...</td>\n",
       "      <td>...</td>\n",
       "      <td>...</td>\n",
       "      <td>...</td>\n",
       "      <td>...</td>\n",
       "      <td>...</td>\n",
       "      <td>...</td>\n",
       "      <td>...</td>\n",
       "    </tr>\n",
       "    <tr>\n",
       "      <th>378642</th>\n",
       "      <td>ÉPOUVANTAILS : 28mm Figurines de jeux pour KIN...</td>\n",
       "      <td>Tabletop Games</td>\n",
       "      <td>Games</td>\n",
       "      <td>2017-10-31</td>\n",
       "      <td>2017-10-04 11:26:44</td>\n",
       "      <td>35</td>\n",
       "      <td>FR</td>\n",
       "      <td>1,452.47</td>\n",
       "      <td>1,165.70</td>\n",
       "      <td>26.50</td>\n",
       "      <td>successful</td>\n",
       "      <td>1</td>\n",
       "    </tr>\n",
       "    <tr>\n",
       "      <th>378644</th>\n",
       "      <td>The Manual Bar Blade</td>\n",
       "      <td>Product Design</td>\n",
       "      <td>Design</td>\n",
       "      <td>2015-12-15</td>\n",
       "      <td>2015-11-23 07:33:14</td>\n",
       "      <td>120</td>\n",
       "      <td>US</td>\n",
       "      <td>6,169.00</td>\n",
       "      <td>3,500.00</td>\n",
       "      <td>21.67</td>\n",
       "      <td>successful</td>\n",
       "      <td>1</td>\n",
       "    </tr>\n",
       "    <tr>\n",
       "      <th>378646</th>\n",
       "      <td>The Dog Coffee Book</td>\n",
       "      <td>Children's Books</td>\n",
       "      <td>Publishing</td>\n",
       "      <td>2013-11-30</td>\n",
       "      <td>2013-10-18 21:35:04</td>\n",
       "      <td>31</td>\n",
       "      <td>US</td>\n",
       "      <td>1,732.02</td>\n",
       "      <td>950.00</td>\n",
       "      <td>42.08</td>\n",
       "      <td>successful</td>\n",
       "      <td>1</td>\n",
       "    </tr>\n",
       "    <tr>\n",
       "      <th>378651</th>\n",
       "      <td>AT THE BEACH</td>\n",
       "      <td>Classical Music</td>\n",
       "      <td>Music</td>\n",
       "      <td>2014-03-22</td>\n",
       "      <td>2014-02-20 01:00:16</td>\n",
       "      <td>78</td>\n",
       "      <td>CA</td>\n",
       "      <td>4,983.69</td>\n",
       "      <td>4,529.81</td>\n",
       "      <td>29.92</td>\n",
       "      <td>successful</td>\n",
       "      <td>1</td>\n",
       "    </tr>\n",
       "    <tr>\n",
       "      <th>378652</th>\n",
       "      <td>Beach Wrestling Documentary</td>\n",
       "      <td>Documentary</td>\n",
       "      <td>Film &amp; Video</td>\n",
       "      <td>2015-04-28</td>\n",
       "      <td>2015-03-29 21:30:33</td>\n",
       "      <td>36</td>\n",
       "      <td>NO</td>\n",
       "      <td>2,875.83</td>\n",
       "      <td>2,675.19</td>\n",
       "      <td>29.08</td>\n",
       "      <td>successful</td>\n",
       "      <td>1</td>\n",
       "    </tr>\n",
       "  </tbody>\n",
       "</table>\n",
       "<p>133851 rows × 12 columns</p>\n",
       "</div>"
      ],
      "text/plain": [
       "                                                     name          category  \\\n",
       "5                                    Monarch Espresso Bar       Restaurants   \n",
       "6       Support Solar Roasted Coffee & Green Energy!  ...              Food   \n",
       "11                                       Lisa Lim New CD!        Indie Rock   \n",
       "14      Tombstone: Old West tabletop game and miniatur...    Tabletop Games   \n",
       "18                    Mike Corey's Darkness & Light Album             Music   \n",
       "...                                                   ...               ...   \n",
       "378642  ÉPOUVANTAILS : 28mm Figurines de jeux pour KIN...    Tabletop Games   \n",
       "378644                               The Manual Bar Blade    Product Design   \n",
       "378646                                The Dog Coffee Book  Children's Books   \n",
       "378651                                       AT THE BEACH   Classical Music   \n",
       "378652                        Beach Wrestling Documentary       Documentary   \n",
       "\n",
       "       main_category   deadline            launched  backers country  \\\n",
       "5               Food 2016-04-01 2016-02-26 13:38:27      224      US   \n",
       "6               Food 2014-12-21 2014-12-01 18:30:44       16      US   \n",
       "11             Music 2013-04-08 2013-03-09 06:42:58      100      US   \n",
       "14             Games 2017-05-03 2017-04-05 19:44:18      761      GB   \n",
       "18             Music 2012-08-17 2012-08-02 14:11:32        7      US   \n",
       "...              ...        ...                 ...      ...     ...   \n",
       "378642         Games 2017-10-31 2017-10-04 11:26:44       35      FR   \n",
       "378644        Design 2015-12-15 2015-11-23 07:33:14      120      US   \n",
       "378646    Publishing 2013-11-30 2013-10-18 21:35:04       31      US   \n",
       "378651         Music 2014-03-22 2014-02-20 01:00:16       78      CA   \n",
       "378652  Film & Video 2015-04-28 2015-03-29 21:30:33       36      NO   \n",
       "\n",
       "        usd_pledged_real  usd_goal_real  time_diff_in_days       State  \\\n",
       "5              52,375.00      50,000.00              34.42  successful   \n",
       "6               1,205.00       1,000.00              19.21  successful   \n",
       "11             12,700.00      12,500.00              29.71  successful   \n",
       "14            121,857.33       6,469.73              27.17  successful   \n",
       "18                250.00         250.00              14.38  successful   \n",
       "...                  ...            ...                ...         ...   \n",
       "378642          1,452.47       1,165.70              26.50  successful   \n",
       "378644          6,169.00       3,500.00              21.67  successful   \n",
       "378646          1,732.02         950.00              42.08  successful   \n",
       "378651          4,983.69       4,529.81              29.92  successful   \n",
       "378652          2,875.83       2,675.19              29.08  successful   \n",
       "\n",
       "        Successful_or_not  \n",
       "5                       1  \n",
       "6                       1  \n",
       "11                      1  \n",
       "14                      1  \n",
       "18                      1  \n",
       "...                   ...  \n",
       "378642                  1  \n",
       "378644                  1  \n",
       "378646                  1  \n",
       "378651                  1  \n",
       "378652                  1  \n",
       "\n",
       "[133851 rows x 12 columns]"
      ]
     },
     "execution_count": 57,
     "metadata": {},
     "output_type": "execute_result"
    }
   ],
   "source": [
    "df2[df2['State'] == 'successful']\n"
   ]
  },
  {
   "cell_type": "markdown",
   "id": "educated-livestock",
   "metadata": {},
   "source": [
    "**After I added the additional column, I need to change categorical variables to numeric using *get_dummies* from pandas library**"
   ]
  },
  {
   "cell_type": "code",
   "execution_count": 58,
   "id": "contemporary-rwanda",
   "metadata": {},
   "outputs": [],
   "source": [
    "df2 = pd.get_dummies(df2, prefix = ['main_category'], prefix_sep = \"_\", columns=['main_category'])\n",
    "df2;"
   ]
  },
  {
   "cell_type": "code",
   "execution_count": 59,
   "id": "declared-mistress",
   "metadata": {},
   "outputs": [
    {
     "data": {
      "text/plain": [
       "Index(['name', 'category', 'deadline', 'launched', 'backers', 'country',\n",
       "       'usd_pledged_real', 'usd_goal_real', 'time_diff_in_days', 'State',\n",
       "       'Successful_or_not', 'main_category_Art', 'main_category_Comics',\n",
       "       'main_category_Crafts', 'main_category_Dance', 'main_category_Design',\n",
       "       'main_category_Fashion', 'main_category_Film & Video',\n",
       "       'main_category_Food', 'main_category_Games', 'main_category_Journalism',\n",
       "       'main_category_Music', 'main_category_Photography',\n",
       "       'main_category_Publishing', 'main_category_Technology',\n",
       "       'main_category_Theater'],\n",
       "      dtype='object')"
      ]
     },
     "execution_count": 59,
     "metadata": {},
     "output_type": "execute_result"
    }
   ],
   "source": [
    "df2.columns"
   ]
  },
  {
   "cell_type": "code",
   "execution_count": 60,
   "id": "purple-restaurant",
   "metadata": {
    "jupyter": {
     "source_hidden": true
    }
   },
   "outputs": [
    {
     "data": {
      "text/plain": [
       "0   64.29\n",
       "1   35.71\n",
       "Name: Successful_or_not, dtype: float64"
      ]
     },
     "execution_count": 60,
     "metadata": {},
     "output_type": "execute_result"
    }
   ],
   "source": [
    "(df2['Successful_or_not'].value_counts()/df2['Successful_or_not'].count())*100"
   ]
  },
  {
   "cell_type": "markdown",
   "id": "continued-isolation",
   "metadata": {},
   "source": [
    "Now two model will be built for this classification problem:<br>\n",
    "1. Using decision tree\n",
    "2. Using Naive Bayes"
   ]
  },
  {
   "cell_type": "code",
   "execution_count": 62,
   "id": "northern-capacity",
   "metadata": {},
   "outputs": [],
   "source": [
    "from sklearn.tree import DecisionTreeClassifier\n",
    "from sklearn.naive_bayes import GaussianNB\n",
    "from sklearn.model_selection import train_test_split, GridSearchCV, ShuffleSplit\n",
    "from sklearn.metrics import accuracy_score, recall_score, precision_score, f1_score\n",
    "from sklearn.model_selection import cross_val_score"
   ]
  },
  {
   "cell_type": "markdown",
   "id": "violent-possession",
   "metadata": {},
   "source": [
    "**Below a grid search is used to check different the decision tree performance using different values for the hyper parameters, and 5 cross validation folds**<br>"
   ]
  },
  {
   "cell_type": "code",
   "execution_count": 64,
   "id": "stock-upper",
   "metadata": {},
   "outputs": [],
   "source": [
    "parameters = {'criterion':('gini', 'entropy'), 'splitter':['best', 'random']}\n",
    "DT = DecisionTreeClassifier()\n",
    "clf = GridSearchCV(DT, parameters, cv = 5)"
   ]
  },
  {
   "cell_type": "code",
   "execution_count": 65,
   "id": "featured-wells",
   "metadata": {},
   "outputs": [],
   "source": [
    "clf2 = GaussianNB()"
   ]
  },
  {
   "cell_type": "markdown",
   "id": "durable-monster",
   "metadata": {},
   "source": [
    "**Befroe proceeding by using the models above, I need to devdied the data to train, and test. Validation will occure using cross validation in search grid function, or in cross validation score function**"
   ]
  },
  {
   "cell_type": "markdown",
   "id": "sporting-agreement",
   "metadata": {
    "jupyter": {
     "source_hidden": true
    }
   },
   "source": [
    "def train_test_validation(X, y):\n",
    "    \"\"\"This function returns the types of sets: training set, validation set, and testing set\"\"\"\n",
    "    X_train, X_test, y_train, y_test = train_test_split(X, y, test_size = 0.2, random_state=0)\n",
    "    X_train2, X_valid, y_train2, y_valid = train_test_split(X_train, y_train, test_size = 0.2, random_state=0)\n",
    "    \n",
    "    return X_train, X_test, y_train, y_test, X_train2, X_valid, y_train2, y_valid\n",
    "    "
   ]
  },
  {
   "cell_type": "code",
   "execution_count": 66,
   "id": "substantial-cutting",
   "metadata": {},
   "outputs": [],
   "source": [
    "X = df2[['main_category_Art', 'main_category_Comics',\n",
    "       'main_category_Crafts', 'main_category_Dance', 'main_category_Design',\n",
    "       'main_category_Fashion', 'main_category_Film & Video',\n",
    "       'main_category_Food', 'main_category_Games', 'main_category_Journalism',\n",
    "       'main_category_Music', 'main_category_Photography',\n",
    "       'main_category_Publishing', 'main_category_Technology',\n",
    "       'main_category_Theater', 'backers', 'usd_goal_real', 'time_diff_in_days']]\n",
    "y = df2['Successful_or_not']"
   ]
  },
  {
   "cell_type": "code",
   "execution_count": 68,
   "id": "incredible-trail",
   "metadata": {},
   "outputs": [],
   "source": [
    "X_train, X_test, y_train, y_test = train_test_split(X, y, test_size = 0.2, random_state=0) #Test set is only 20% of the whole set"
   ]
  },
  {
   "cell_type": "code",
   "execution_count": 69,
   "id": "ambient-glory",
   "metadata": {},
   "outputs": [
    {
     "data": {
      "text/plain": [
       "GridSearchCV(cv=5, estimator=DecisionTreeClassifier(),\n",
       "             param_grid={'criterion': ('gini', 'entropy'),\n",
       "                         'splitter': ['best', 'random']})"
      ]
     },
     "execution_count": 69,
     "metadata": {},
     "output_type": "execute_result"
    }
   ],
   "source": [
    "clf.fit(X_train, y_train)"
   ]
  },
  {
   "cell_type": "markdown",
   "id": "fitted-initial",
   "metadata": {},
   "source": [
    "**Below are the ranking of the decision tree with different hyper parameter values, the one with rank one is the best fit**"
   ]
  },
  {
   "cell_type": "code",
   "execution_count": 71,
   "id": "small-workstation",
   "metadata": {},
   "outputs": [
    {
     "data": {
      "text/html": [
       "<div>\n",
       "<style scoped>\n",
       "    .dataframe tbody tr th:only-of-type {\n",
       "        vertical-align: middle;\n",
       "    }\n",
       "\n",
       "    .dataframe tbody tr th {\n",
       "        vertical-align: top;\n",
       "    }\n",
       "\n",
       "    .dataframe thead th {\n",
       "        text-align: right;\n",
       "    }\n",
       "</style>\n",
       "<table border=\"1\" class=\"dataframe\">\n",
       "  <thead>\n",
       "    <tr style=\"text-align: right;\">\n",
       "      <th></th>\n",
       "      <th>mean_fit_time</th>\n",
       "      <th>std_fit_time</th>\n",
       "      <th>mean_score_time</th>\n",
       "      <th>std_score_time</th>\n",
       "      <th>param_criterion</th>\n",
       "      <th>param_splitter</th>\n",
       "      <th>params</th>\n",
       "      <th>split0_test_score</th>\n",
       "      <th>split1_test_score</th>\n",
       "      <th>split2_test_score</th>\n",
       "      <th>split3_test_score</th>\n",
       "      <th>split4_test_score</th>\n",
       "      <th>mean_test_score</th>\n",
       "      <th>std_test_score</th>\n",
       "      <th>rank_test_score</th>\n",
       "    </tr>\n",
       "  </thead>\n",
       "  <tbody>\n",
       "    <tr>\n",
       "      <th>0</th>\n",
       "      <td>0.82</td>\n",
       "      <td>0.05</td>\n",
       "      <td>0.02</td>\n",
       "      <td>0.00</td>\n",
       "      <td>gini</td>\n",
       "      <td>best</td>\n",
       "      <td>{'criterion': 'gini', 'splitter': 'best'}</td>\n",
       "      <td>0.90</td>\n",
       "      <td>0.90</td>\n",
       "      <td>0.90</td>\n",
       "      <td>0.90</td>\n",
       "      <td>0.90</td>\n",
       "      <td>0.90</td>\n",
       "      <td>0.00</td>\n",
       "      <td>2</td>\n",
       "    </tr>\n",
       "    <tr>\n",
       "      <th>1</th>\n",
       "      <td>0.31</td>\n",
       "      <td>0.05</td>\n",
       "      <td>0.02</td>\n",
       "      <td>0.01</td>\n",
       "      <td>gini</td>\n",
       "      <td>random</td>\n",
       "      <td>{'criterion': 'gini', 'splitter': 'random'}</td>\n",
       "      <td>0.90</td>\n",
       "      <td>0.90</td>\n",
       "      <td>0.90</td>\n",
       "      <td>0.90</td>\n",
       "      <td>0.90</td>\n",
       "      <td>0.90</td>\n",
       "      <td>0.00</td>\n",
       "      <td>4</td>\n",
       "    </tr>\n",
       "    <tr>\n",
       "      <th>2</th>\n",
       "      <td>0.78</td>\n",
       "      <td>0.01</td>\n",
       "      <td>0.02</td>\n",
       "      <td>0.00</td>\n",
       "      <td>entropy</td>\n",
       "      <td>best</td>\n",
       "      <td>{'criterion': 'entropy', 'splitter': 'best'}</td>\n",
       "      <td>0.90</td>\n",
       "      <td>0.90</td>\n",
       "      <td>0.90</td>\n",
       "      <td>0.90</td>\n",
       "      <td>0.90</td>\n",
       "      <td>0.90</td>\n",
       "      <td>0.00</td>\n",
       "      <td>1</td>\n",
       "    </tr>\n",
       "    <tr>\n",
       "      <th>3</th>\n",
       "      <td>0.29</td>\n",
       "      <td>0.01</td>\n",
       "      <td>0.02</td>\n",
       "      <td>0.00</td>\n",
       "      <td>entropy</td>\n",
       "      <td>random</td>\n",
       "      <td>{'criterion': 'entropy', 'splitter': 'random'}</td>\n",
       "      <td>0.90</td>\n",
       "      <td>0.90</td>\n",
       "      <td>0.90</td>\n",
       "      <td>0.90</td>\n",
       "      <td>0.90</td>\n",
       "      <td>0.90</td>\n",
       "      <td>0.00</td>\n",
       "      <td>3</td>\n",
       "    </tr>\n",
       "  </tbody>\n",
       "</table>\n",
       "</div>"
      ],
      "text/plain": [
       "   mean_fit_time  std_fit_time  mean_score_time  std_score_time  \\\n",
       "0           0.82          0.05             0.02            0.00   \n",
       "1           0.31          0.05             0.02            0.01   \n",
       "2           0.78          0.01             0.02            0.00   \n",
       "3           0.29          0.01             0.02            0.00   \n",
       "\n",
       "  param_criterion param_splitter  \\\n",
       "0            gini           best   \n",
       "1            gini         random   \n",
       "2         entropy           best   \n",
       "3         entropy         random   \n",
       "\n",
       "                                           params  split0_test_score  \\\n",
       "0       {'criterion': 'gini', 'splitter': 'best'}               0.90   \n",
       "1     {'criterion': 'gini', 'splitter': 'random'}               0.90   \n",
       "2    {'criterion': 'entropy', 'splitter': 'best'}               0.90   \n",
       "3  {'criterion': 'entropy', 'splitter': 'random'}               0.90   \n",
       "\n",
       "   split1_test_score  split2_test_score  split3_test_score  split4_test_score  \\\n",
       "0               0.90               0.90               0.90               0.90   \n",
       "1               0.90               0.90               0.90               0.90   \n",
       "2               0.90               0.90               0.90               0.90   \n",
       "3               0.90               0.90               0.90               0.90   \n",
       "\n",
       "   mean_test_score  std_test_score  rank_test_score  \n",
       "0             0.90            0.00                2  \n",
       "1             0.90            0.00                4  \n",
       "2             0.90            0.00                1  \n",
       "3             0.90            0.00                3  "
      ]
     },
     "execution_count": 71,
     "metadata": {},
     "output_type": "execute_result"
    }
   ],
   "source": [
    "pd.DataFrame(clf.cv_results_)"
   ]
  },
  {
   "cell_type": "code",
   "execution_count": 72,
   "id": "regulated-breath",
   "metadata": {},
   "outputs": [],
   "source": [
    "DT2 = DecisionTreeClassifier( criterion='entropy', splitter='best') #Choosing the best fit is highlighted below"
   ]
  },
  {
   "cell_type": "code",
   "execution_count": 73,
   "id": "signed-programming",
   "metadata": {},
   "outputs": [],
   "source": [
    "DT2 = DT2.fit(X_train, y_train)"
   ]
  },
  {
   "cell_type": "code",
   "execution_count": 74,
   "id": "distinguished-fellow",
   "metadata": {},
   "outputs": [
    {
     "data": {
      "text/plain": [
       "0.9983759737487995"
      ]
     },
     "execution_count": 74,
     "metadata": {},
     "output_type": "execute_result"
    }
   ],
   "source": [
    "DT2.score(X_train, y_train)"
   ]
  },
  {
   "cell_type": "code",
   "execution_count": 75,
   "id": "analyzed-cream",
   "metadata": {},
   "outputs": [],
   "source": [
    "y_pred = DT2.predict(X_test)"
   ]
  },
  {
   "cell_type": "code",
   "execution_count": 76,
   "id": "upper-ghana",
   "metadata": {},
   "outputs": [
    {
     "name": "stdout",
     "output_type": "stream",
     "text": [
      "0.9007309785508484 0.8578963230861965 0.8612056576658347 0.8595478050805873\n"
     ]
    }
   ],
   "source": [
    "print(accuracy_score(y_test, y_pred), recall_score(y_test, y_pred) , precision_score(y_test, y_pred), f1_score(y_test, y_pred) )"
   ]
  },
  {
   "cell_type": "markdown",
   "id": "artistic-russell",
   "metadata": {},
   "source": [
    "**Reconfirming the results above by using cross validation score**"
   ]
  },
  {
   "cell_type": "code",
   "execution_count": 77,
   "id": "lightweight-marriage",
   "metadata": {},
   "outputs": [],
   "source": [
    "scores = cross_val_score(DT2, X, y, cv=5, scoring='f1')"
   ]
  },
  {
   "cell_type": "code",
   "execution_count": 78,
   "id": "freelance-cooler",
   "metadata": {},
   "outputs": [
    {
     "data": {
      "text/plain": [
       "0.8607271043625377"
      ]
     },
     "execution_count": 78,
     "metadata": {},
     "output_type": "execute_result"
    }
   ],
   "source": [
    "scores.mean()"
   ]
  },
  {
   "cell_type": "markdown",
   "id": "alien-rover",
   "metadata": {},
   "source": [
    "**Now I will use GuassianNB and check the accuracy and F1 score and utilize cross validation**"
   ]
  },
  {
   "cell_type": "code",
   "execution_count": 79,
   "id": "surface-wholesale",
   "metadata": {},
   "outputs": [
    {
     "data": {
      "text/plain": [
       "0.4155406306690855"
      ]
     },
     "execution_count": 79,
     "metadata": {},
     "output_type": "execute_result"
    }
   ],
   "source": [
    "clf2 = clf2.fit(X_train, y_train)\n",
    "clf2.score(X_train, y_train)"
   ]
  },
  {
   "cell_type": "code",
   "execution_count": 80,
   "id": "whole-teaching",
   "metadata": {},
   "outputs": [
    {
     "name": "stdout",
     "output_type": "stream",
     "text": [
      "0.4130695763525771 0.9983423749246534 0.37611592886441375 0.5463861197307244\n"
     ]
    }
   ],
   "source": [
    "y_pred2 = clf2.predict(X_test)\n",
    "print(accuracy_score(y_test, y_pred2), recall_score(y_test, y_pred2) , precision_score(y_test, y_pred2), f1_score(y_test, y_pred2))"
   ]
  },
  {
   "cell_type": "code",
   "execution_count": 81,
   "id": "blank-resort",
   "metadata": {},
   "outputs": [],
   "source": [
    "scores = cross_val_score(clf2, X, y, cv=5, scoring='f1')"
   ]
  },
  {
   "cell_type": "code",
   "execution_count": 82,
   "id": "lightweight-encyclopedia",
   "metadata": {},
   "outputs": [
    {
     "data": {
      "text/plain": [
       "0.5498239097334323"
      ]
     },
     "execution_count": 82,
     "metadata": {},
     "output_type": "execute_result"
    }
   ],
   "source": [
    "scores.mean()"
   ]
  },
  {
   "cell_type": "markdown",
   "id": "julian-backing",
   "metadata": {},
   "source": [
    "#### From Above it can be seen based on F1 score metric, as it is the most accurate metric for classification problems, that decision tree classifier outperforms the GuassianNB with an F1 score of 0.86 against 0.55"
   ]
  }
 ],
 "metadata": {
  "kernelspec": {
   "display_name": "Python 3",
   "language": "python",
   "name": "python3"
  },
  "language_info": {
   "codemirror_mode": {
    "name": "ipython",
    "version": 3
   },
   "file_extension": ".py",
   "mimetype": "text/x-python",
   "name": "python",
   "nbconvert_exporter": "python",
   "pygments_lexer": "ipython3",
   "version": "3.8.8"
  }
 },
 "nbformat": 4,
 "nbformat_minor": 5
}
